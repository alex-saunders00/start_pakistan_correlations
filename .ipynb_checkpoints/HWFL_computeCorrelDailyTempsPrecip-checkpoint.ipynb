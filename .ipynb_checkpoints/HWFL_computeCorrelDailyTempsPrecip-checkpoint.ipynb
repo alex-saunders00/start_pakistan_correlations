{
 "cells": [
  {
   "cell_type": "markdown",
   "id": "ee38695b-3a0c-4660-8cb8-323c70d05c58",
   "metadata": {},
   "source": [
    "# start_pakistan_correlations\n",
    "## HWFL_computeCorrelDailyTempsPrecip.ipynb\n",
    "This script computes correlation between the Pakistan HW and FL daily meteorologies, using the GFS 2 meter temperature data for the heatwave cities, and the CHIRPS 95%ile daily precipitation in the entire Indus basin."
   ]
  },
  {
   "cell_type": "code",
   "execution_count": 1,
   "id": "25f131c8-a727-4c7c-8b5d-060ea2456df8",
   "metadata": {
    "tags": []
   },
   "outputs": [
    {
     "name": "stderr",
     "output_type": "stream",
     "text": [
      "C:\\Users\\alexa\\AppData\\Local\\Temp\\ipykernel_4200\\4234477562.py:9: DeprecationWarning: Please use `pearsonr` from the `scipy.stats` namespace, the `scipy.stats.stats` namespace is deprecated.\n",
      "  from scipy.stats.stats import pearsonr\n"
     ]
    }
   ],
   "source": [
    "from pathlib import Path\n",
    "import os\n",
    "import sys\n",
    "import pandas as pd\n",
    "import numpy as np\n",
    "from datetime import datetime\n",
    "from datetime import date, timedelta\n",
    "import matplotlib.pyplot as plt\n",
    "from scipy.stats.stats import pearsonr"
   ]
  },
  {
   "cell_type": "code",
   "execution_count": 2,
   "id": "7a71d48e-ea0c-488b-abee-4e8bb994a743",
   "metadata": {
    "tags": []
   },
   "outputs": [],
   "source": [
    "# Set the root path\n",
    "rootPath = Path('C:/Users/alexa/Documents/02_work/02_start/02_deliv/05_pk_correlation/')"
   ]
  },
  {
   "cell_type": "markdown",
   "id": "7cd03ce4-0014-4235-b9cb-94381367dd17",
   "metadata": {},
   "source": [
    "## Get the HW and FL daily temperature and precipitation data"
   ]
  },
  {
   "cell_type": "code",
   "execution_count": 12,
   "id": "4061a8d6-0bb5-4064-8b5e-c26e002e9c34",
   "metadata": {
    "tags": []
   },
   "outputs": [
    {
     "data": {
      "text/html": [
       "<div>\n",
       "<style scoped>\n",
       "    .dataframe tbody tr th:only-of-type {\n",
       "        vertical-align: middle;\n",
       "    }\n",
       "\n",
       "    .dataframe tbody tr th {\n",
       "        vertical-align: top;\n",
       "    }\n",
       "\n",
       "    .dataframe thead th {\n",
       "        text-align: right;\n",
       "    }\n",
       "</style>\n",
       "<table border=\"1\" class=\"dataframe\">\n",
       "  <thead>\n",
       "    <tr style=\"text-align: right;\">\n",
       "      <th></th>\n",
       "      <th>mean</th>\n",
       "      <th>median</th>\n",
       "      <th>p95</th>\n",
       "    </tr>\n",
       "  </thead>\n",
       "  <tbody>\n",
       "    <tr>\n",
       "      <th>1981-01-01</th>\n",
       "      <td>0.000000</td>\n",
       "      <td>0.000000</td>\n",
       "      <td>0.000000</td>\n",
       "    </tr>\n",
       "    <tr>\n",
       "      <th>1981-01-02</th>\n",
       "      <td>2.616719</td>\n",
       "      <td>0.000036</td>\n",
       "      <td>13.866395</td>\n",
       "    </tr>\n",
       "    <tr>\n",
       "      <th>1981-01-03</th>\n",
       "      <td>3.128428</td>\n",
       "      <td>0.000000</td>\n",
       "      <td>15.615570</td>\n",
       "    </tr>\n",
       "    <tr>\n",
       "      <th>1981-01-04</th>\n",
       "      <td>4.383004</td>\n",
       "      <td>0.619525</td>\n",
       "      <td>16.365246</td>\n",
       "    </tr>\n",
       "    <tr>\n",
       "      <th>1981-01-05</th>\n",
       "      <td>0.728298</td>\n",
       "      <td>0.000000</td>\n",
       "      <td>5.691761</td>\n",
       "    </tr>\n",
       "    <tr>\n",
       "      <th>...</th>\n",
       "      <td>...</td>\n",
       "      <td>...</td>\n",
       "      <td>...</td>\n",
       "    </tr>\n",
       "    <tr>\n",
       "      <th>2022-12-27</th>\n",
       "      <td>0.000000</td>\n",
       "      <td>0.000000</td>\n",
       "      <td>0.000000</td>\n",
       "    </tr>\n",
       "    <tr>\n",
       "      <th>2022-12-28</th>\n",
       "      <td>0.114238</td>\n",
       "      <td>0.000000</td>\n",
       "      <td>0.000000</td>\n",
       "    </tr>\n",
       "    <tr>\n",
       "      <th>2022-12-29</th>\n",
       "      <td>1.790827</td>\n",
       "      <td>0.000000</td>\n",
       "      <td>6.558889</td>\n",
       "    </tr>\n",
       "    <tr>\n",
       "      <th>2022-12-30</th>\n",
       "      <td>0.000592</td>\n",
       "      <td>0.000000</td>\n",
       "      <td>0.000000</td>\n",
       "    </tr>\n",
       "    <tr>\n",
       "      <th>2022-12-31</th>\n",
       "      <td>0.005485</td>\n",
       "      <td>0.000000</td>\n",
       "      <td>0.000000</td>\n",
       "    </tr>\n",
       "  </tbody>\n",
       "</table>\n",
       "<p>15340 rows × 3 columns</p>\n",
       "</div>"
      ],
      "text/plain": [
       "                mean    median        p95\n",
       "1981-01-01  0.000000  0.000000   0.000000\n",
       "1981-01-02  2.616719  0.000036  13.866395\n",
       "1981-01-03  3.128428  0.000000  15.615570\n",
       "1981-01-04  4.383004  0.619525  16.365246\n",
       "1981-01-05  0.728298  0.000000   5.691761\n",
       "...              ...       ...        ...\n",
       "2022-12-27  0.000000  0.000000   0.000000\n",
       "2022-12-28  0.114238  0.000000   0.000000\n",
       "2022-12-29  1.790827  0.000000   6.558889\n",
       "2022-12-30  0.000592  0.000000   0.000000\n",
       "2022-12-31  0.005485  0.000000   0.000000\n",
       "\n",
       "[15340 rows x 3 columns]"
      ]
     },
     "execution_count": 12,
     "metadata": {},
     "output_type": "execute_result"
    }
   ],
   "source": [
    "precipPath = rootPath/'fl/data/chirps'\n",
    "precipData = pd.read_csv(precipPath/('CHIRPSDailyIndus1981-2022.csv'))\n",
    "precipData.index = [pd.to_datetime(item, format='%Y%m%d') for item in precipData.date]\n",
    "precipData=precipData.drop('date',axis=1)\n",
    "precipData"
   ]
  },
  {
   "cell_type": "code",
   "execution_count": 13,
   "id": "36bdcacf-ea31-485f-8d1d-7e70efc67662",
   "metadata": {
    "tags": []
   },
   "outputs": [],
   "source": [
    "hwPath = rootPath/'hw/data/city_extracts_2023'\n",
    "sites = [item.stem for item in list(hwPath.iterdir())]"
   ]
  },
  {
   "cell_type": "code",
   "execution_count": 19,
   "id": "41fb1dd4-6346-4658-8bd3-fcc624aed4b7",
   "metadata": {
    "tags": []
   },
   "outputs": [
    {
     "name": "stderr",
     "output_type": "stream",
     "text": [
      "C:\\Users\\alexa\\AppData\\Local\\Temp\\ipykernel_4200\\1910740329.py:26: FutureWarning: Passing 'suffixes' which cause duplicate columns {'t2m_cel_x'} in the result is deprecated and will raise a MergeError in a future version.\n",
      "  allDailyData = allDailyData.merge(siteData, left_index=True, right_index=True, how='outer')\n",
      "C:\\Users\\alexa\\AppData\\Local\\Temp\\ipykernel_4200\\1910740329.py:26: FutureWarning: Passing 'suffixes' which cause duplicate columns {'t2m_cel_x'} in the result is deprecated and will raise a MergeError in a future version.\n",
      "  allDailyData = allDailyData.merge(siteData, left_index=True, right_index=True, how='outer')\n"
     ]
    }
   ],
   "source": [
    "# Loop through sites and get the daily values\n",
    "\n",
    "# Record daily date for all sites in df\n",
    "startDate=date(2004,4,1)\n",
    "endDate=date(2022,12,31)\n",
    "allDailyData = pd.DataFrame(data=[pd.date_range(startDate, endDate, freq='d')],index=['time']).T\n",
    "allDailyData.index = allDailyData.time\n",
    "allDailyData = allDailyData.drop('time', axis=1)\n",
    "keepCols=['t2m_cel']\n",
    "\n",
    "# Loop through sites\n",
    "for i, site in enumerate(sites):\n",
    "    \n",
    "    # Read the daily data\n",
    "    siteFile = hwPath/'{0}/gfsanl_daily_{1}_allyears.csv'.format(site, site)\n",
    "    siteData = pd.read_csv(siteFile)\n",
    "    siteData.index = pd.to_datetime(siteData.time)\n",
    "    siteData = siteData[keepCols]\n",
    "    \n",
    "    # # Filter for monitoring months\n",
    "    # siteData.index = pd.to_datetime(siteData.time)\n",
    "    # siteData['month'] = [item.month for item in siteData.index]\n",
    "    # siteDataSub = siteData[siteData.month.isin(months)]\n",
    "    \n",
    "    # Merge the site data into the allDailyData dataframe\n",
    "    allDailyData = allDailyData.merge(siteData, left_index=True, right_index=True, how='outer')\n",
    "    \n",
    "allDailyData.columns=sites\n",
    "# allDailyData['month'] = [item.month for item in allDailyData.index]\n",
    "hwData=allDailyData.copy(deep=True)"
   ]
  },
  {
   "cell_type": "code",
   "execution_count": 20,
   "id": "f88fbf26-f1fa-44db-abab-8b6f7c5c827f",
   "metadata": {
    "tags": []
   },
   "outputs": [
    {
     "data": {
      "text/html": [
       "<div>\n",
       "<style scoped>\n",
       "    .dataframe tbody tr th:only-of-type {\n",
       "        vertical-align: middle;\n",
       "    }\n",
       "\n",
       "    .dataframe tbody tr th {\n",
       "        vertical-align: top;\n",
       "    }\n",
       "\n",
       "    .dataframe thead th {\n",
       "        text-align: right;\n",
       "    }\n",
       "</style>\n",
       "<table border=\"1\" class=\"dataframe\">\n",
       "  <thead>\n",
       "    <tr style=\"text-align: right;\">\n",
       "      <th></th>\n",
       "      <th>Jacobabad</th>\n",
       "      <th>Karachi_Jinnah_Airport</th>\n",
       "      <th>Lahore</th>\n",
       "      <th>Multan</th>\n",
       "      <th>Nawabshah</th>\n",
       "      <th>Sibi</th>\n",
       "    </tr>\n",
       "    <tr>\n",
       "      <th>time</th>\n",
       "      <th></th>\n",
       "      <th></th>\n",
       "      <th></th>\n",
       "      <th></th>\n",
       "      <th></th>\n",
       "      <th></th>\n",
       "    </tr>\n",
       "  </thead>\n",
       "  <tbody>\n",
       "    <tr>\n",
       "      <th>2004-04-01</th>\n",
       "      <td>31.0250</td>\n",
       "      <td>26.4750</td>\n",
       "      <td>26.3500</td>\n",
       "      <td>30.7500</td>\n",
       "      <td>29.8750</td>\n",
       "      <td>22.7750</td>\n",
       "    </tr>\n",
       "    <tr>\n",
       "      <th>2004-04-02</th>\n",
       "      <td>30.8500</td>\n",
       "      <td>27.1250</td>\n",
       "      <td>29.7250</td>\n",
       "      <td>28.5750</td>\n",
       "      <td>31.4000</td>\n",
       "      <td>23.3500</td>\n",
       "    </tr>\n",
       "    <tr>\n",
       "      <th>2004-04-03</th>\n",
       "      <td>31.8500</td>\n",
       "      <td>27.5500</td>\n",
       "      <td>28.4750</td>\n",
       "      <td>28.4500</td>\n",
       "      <td>32.4000</td>\n",
       "      <td>22.9500</td>\n",
       "    </tr>\n",
       "    <tr>\n",
       "      <th>2004-04-04</th>\n",
       "      <td>31.6750</td>\n",
       "      <td>28.2750</td>\n",
       "      <td>30.0250</td>\n",
       "      <td>29.7000</td>\n",
       "      <td>32.7500</td>\n",
       "      <td>24.1000</td>\n",
       "    </tr>\n",
       "    <tr>\n",
       "      <th>2004-04-05</th>\n",
       "      <td>31.7250</td>\n",
       "      <td>27.5000</td>\n",
       "      <td>29.8000</td>\n",
       "      <td>31.6000</td>\n",
       "      <td>32.2000</td>\n",
       "      <td>24.9000</td>\n",
       "    </tr>\n",
       "    <tr>\n",
       "      <th>...</th>\n",
       "      <td>...</td>\n",
       "      <td>...</td>\n",
       "      <td>...</td>\n",
       "      <td>...</td>\n",
       "      <td>...</td>\n",
       "      <td>...</td>\n",
       "    </tr>\n",
       "    <tr>\n",
       "      <th>2022-12-27</th>\n",
       "      <td>18.3225</td>\n",
       "      <td>21.7150</td>\n",
       "      <td>14.1325</td>\n",
       "      <td>16.7575</td>\n",
       "      <td>19.0175</td>\n",
       "      <td>12.8875</td>\n",
       "    </tr>\n",
       "    <tr>\n",
       "      <th>2022-12-28</th>\n",
       "      <td>19.7075</td>\n",
       "      <td>21.9275</td>\n",
       "      <td>14.9500</td>\n",
       "      <td>18.2525</td>\n",
       "      <td>21.3325</td>\n",
       "      <td>14.5625</td>\n",
       "    </tr>\n",
       "    <tr>\n",
       "      <th>2022-12-29</th>\n",
       "      <td>19.5150</td>\n",
       "      <td>23.4425</td>\n",
       "      <td>11.3700</td>\n",
       "      <td>15.8850</td>\n",
       "      <td>23.1975</td>\n",
       "      <td>14.2550</td>\n",
       "    </tr>\n",
       "    <tr>\n",
       "      <th>2022-12-30</th>\n",
       "      <td>18.1700</td>\n",
       "      <td>21.6725</td>\n",
       "      <td>12.8525</td>\n",
       "      <td>14.0400</td>\n",
       "      <td>19.0100</td>\n",
       "      <td>13.2950</td>\n",
       "    </tr>\n",
       "    <tr>\n",
       "      <th>2022-12-31</th>\n",
       "      <td>17.9675</td>\n",
       "      <td>20.3175</td>\n",
       "      <td>13.6025</td>\n",
       "      <td>15.4900</td>\n",
       "      <td>18.4600</td>\n",
       "      <td>12.8175</td>\n",
       "    </tr>\n",
       "  </tbody>\n",
       "</table>\n",
       "<p>6849 rows × 6 columns</p>\n",
       "</div>"
      ],
      "text/plain": [
       "            Jacobabad  Karachi_Jinnah_Airport   Lahore   Multan  Nawabshah  \\\n",
       "time                                                                         \n",
       "2004-04-01    31.0250                 26.4750  26.3500  30.7500    29.8750   \n",
       "2004-04-02    30.8500                 27.1250  29.7250  28.5750    31.4000   \n",
       "2004-04-03    31.8500                 27.5500  28.4750  28.4500    32.4000   \n",
       "2004-04-04    31.6750                 28.2750  30.0250  29.7000    32.7500   \n",
       "2004-04-05    31.7250                 27.5000  29.8000  31.6000    32.2000   \n",
       "...               ...                     ...      ...      ...        ...   \n",
       "2022-12-27    18.3225                 21.7150  14.1325  16.7575    19.0175   \n",
       "2022-12-28    19.7075                 21.9275  14.9500  18.2525    21.3325   \n",
       "2022-12-29    19.5150                 23.4425  11.3700  15.8850    23.1975   \n",
       "2022-12-30    18.1700                 21.6725  12.8525  14.0400    19.0100   \n",
       "2022-12-31    17.9675                 20.3175  13.6025  15.4900    18.4600   \n",
       "\n",
       "               Sibi  \n",
       "time                 \n",
       "2004-04-01  22.7750  \n",
       "2004-04-02  23.3500  \n",
       "2004-04-03  22.9500  \n",
       "2004-04-04  24.1000  \n",
       "2004-04-05  24.9000  \n",
       "...             ...  \n",
       "2022-12-27  12.8875  \n",
       "2022-12-28  14.5625  \n",
       "2022-12-29  14.2550  \n",
       "2022-12-30  13.2950  \n",
       "2022-12-31  12.8175  \n",
       "\n",
       "[6849 rows x 6 columns]"
      ]
     },
     "execution_count": 20,
     "metadata": {},
     "output_type": "execute_result"
    }
   ],
   "source": [
    "hwData"
   ]
  },
  {
   "cell_type": "markdown",
   "id": "7b18b2ef-1ce8-416b-b578-8492354943c8",
   "metadata": {},
   "source": [
    "## Compute correlations\n",
    "Compute correlation for each city"
   ]
  },
  {
   "cell_type": "code",
   "execution_count": 38,
   "id": "bbf278e3-f13b-4b92-8ca3-0b3e688a6430",
   "metadata": {
    "tags": []
   },
   "outputs": [],
   "source": [
    "hwMonths = list(range(4,8))"
   ]
  },
  {
   "cell_type": "code",
   "execution_count": 42,
   "id": "92c28914-d1d0-49e9-9650-8dd1af2c3dfc",
   "metadata": {
    "tags": []
   },
   "outputs": [],
   "source": [
    "flMonths = list(range(7,10))"
   ]
  },
  {
   "cell_type": "code",
   "execution_count": 24,
   "id": "eb5770f5-03af-4e77-8f2d-3a3936489105",
   "metadata": {
    "tags": []
   },
   "outputs": [
    {
     "data": {
      "text/plain": [
       "Index(['Jacobabad', 'Karachi_Jinnah_Airport', 'Lahore', 'Multan', 'Nawabshah',\n",
       "       'Sibi'],\n",
       "      dtype='object')"
      ]
     },
     "execution_count": 24,
     "metadata": {},
     "output_type": "execute_result"
    }
   ],
   "source": [
    "hwData.columns"
   ]
  },
  {
   "cell_type": "code",
   "execution_count": 44,
   "id": "8756fb5f-0374-4015-a4b8-6533118fdcf8",
   "metadata": {
    "tags": []
   },
   "outputs": [],
   "source": [
    "precipMetric='p95'\n",
    "correlsResultData=pd.DataFrame(data=[], index=['HWsite','precipMetric','pearson-r','p', 'HWMonths_pearson-r','HWMonths_p', 'FLMonths_pearson-r','FLMonths_p']).T\n",
    "\n",
    "for i, site in enumerate(list(hwData.columns)):\n",
    "    \n",
    "    # Get the daily temps for the city\n",
    "    hw=pd.DataFrame(hwData[site])\n",
    "    \n",
    "    # Compute correlation with the precip on the same dates\n",
    "    corrData = hw.merge(precipData[precipMetric], left_index=True, right_index=True)\n",
    "    correlResult = list(pearsonr(corrData.iloc[:,0], corrData.iloc[:,1])) # (Pearson's correlation coefficient, 2-tailed p-value)\n",
    "    \n",
    "    # Repeat for only heatwave months\n",
    "    corrData['month']=corrData.index.month\n",
    "    corrData = corrData[corrData.month.isin(hwMonths)]\n",
    "    correlResultWindowHW = list(pearsonr(corrData.iloc[:,0], corrData.iloc[:,1])) # (Pearson's correlation coefficient, 2-tailed p-value)\n",
    "   \n",
    "    # Repeat for only flood months\n",
    "    corrData = hw.merge(precipData[precipMetric], left_index=True, right_index=True)\n",
    "    corrData['month']=corrData.index.month\n",
    "    corrData = corrData[corrData.month.isin(flMonths)]\n",
    "    correlResultWindowFL = list(pearsonr(corrData.iloc[:,0], corrData.iloc[:,1])) # (Pearson's correlation coefficient, 2-tailed p-value)\n",
    "   \n",
    "    # Record in dataframe\n",
    "    correlResultData  = pd.DataFrame(data=[site, precipMetric] + correlResult + correlResultWindowHW + correlResultWindowFL, index=correlsResultData.columns).T\n",
    "    correlsResultData = pd.concat(objs=[correlsResultData, correlResultData])"
   ]
  },
  {
   "cell_type": "code",
   "execution_count": 45,
   "id": "0a77c69c-6e04-4002-ac41-7cbc6320a520",
   "metadata": {
    "tags": []
   },
   "outputs": [
    {
     "data": {
      "text/html": [
       "<div>\n",
       "<style scoped>\n",
       "    .dataframe tbody tr th:only-of-type {\n",
       "        vertical-align: middle;\n",
       "    }\n",
       "\n",
       "    .dataframe tbody tr th {\n",
       "        vertical-align: top;\n",
       "    }\n",
       "\n",
       "    .dataframe thead th {\n",
       "        text-align: right;\n",
       "    }\n",
       "</style>\n",
       "<table border=\"1\" class=\"dataframe\">\n",
       "  <thead>\n",
       "    <tr style=\"text-align: right;\">\n",
       "      <th></th>\n",
       "      <th>HWsite</th>\n",
       "      <th>precipMetric</th>\n",
       "      <th>pearson-r</th>\n",
       "      <th>p</th>\n",
       "      <th>HWMonths_pearson-r</th>\n",
       "      <th>HWMonths_p</th>\n",
       "      <th>FLMonths_pearson-r</th>\n",
       "      <th>FLMonths_p</th>\n",
       "    </tr>\n",
       "  </thead>\n",
       "  <tbody>\n",
       "    <tr>\n",
       "      <th>0</th>\n",
       "      <td>Jacobabad</td>\n",
       "      <td>p95</td>\n",
       "      <td>0.216514</td>\n",
       "      <td>0.0</td>\n",
       "      <td>0.078134</td>\n",
       "      <td>0.000166</td>\n",
       "      <td>0.094183</td>\n",
       "      <td>0.00008</td>\n",
       "    </tr>\n",
       "    <tr>\n",
       "      <th>0</th>\n",
       "      <td>Karachi_Jinnah_Airport</td>\n",
       "      <td>p95</td>\n",
       "      <td>0.139241</td>\n",
       "      <td>0.0</td>\n",
       "      <td>-0.052874</td>\n",
       "      <td>0.010895</td>\n",
       "      <td>0.02382</td>\n",
       "      <td>0.319574</td>\n",
       "    </tr>\n",
       "    <tr>\n",
       "      <th>0</th>\n",
       "      <td>Lahore</td>\n",
       "      <td>p95</td>\n",
       "      <td>0.196351</td>\n",
       "      <td>0.0</td>\n",
       "      <td>0.034255</td>\n",
       "      <td>0.099186</td>\n",
       "      <td>-0.016783</td>\n",
       "      <td>0.483149</td>\n",
       "    </tr>\n",
       "    <tr>\n",
       "      <th>0</th>\n",
       "      <td>Multan</td>\n",
       "      <td>p95</td>\n",
       "      <td>0.225015</td>\n",
       "      <td>0.0</td>\n",
       "      <td>0.118728</td>\n",
       "      <td>0.0</td>\n",
       "      <td>0.085248</td>\n",
       "      <td>0.00036</td>\n",
       "    </tr>\n",
       "    <tr>\n",
       "      <th>0</th>\n",
       "      <td>Nawabshah</td>\n",
       "      <td>p95</td>\n",
       "      <td>0.16668</td>\n",
       "      <td>0.0</td>\n",
       "      <td>-0.130267</td>\n",
       "      <td>0.0</td>\n",
       "      <td>-0.031763</td>\n",
       "      <td>0.184384</td>\n",
       "    </tr>\n",
       "    <tr>\n",
       "      <th>0</th>\n",
       "      <td>Sibi</td>\n",
       "      <td>p95</td>\n",
       "      <td>0.225637</td>\n",
       "      <td>0.0</td>\n",
       "      <td>0.124725</td>\n",
       "      <td>0.0</td>\n",
       "      <td>0.185498</td>\n",
       "      <td>0.0</td>\n",
       "    </tr>\n",
       "  </tbody>\n",
       "</table>\n",
       "</div>"
      ],
      "text/plain": [
       "                   HWsite precipMetric pearson-r    p HWMonths_pearson-r  \\\n",
       "0               Jacobabad          p95  0.216514  0.0           0.078134   \n",
       "0  Karachi_Jinnah_Airport          p95  0.139241  0.0          -0.052874   \n",
       "0                  Lahore          p95  0.196351  0.0           0.034255   \n",
       "0                  Multan          p95  0.225015  0.0           0.118728   \n",
       "0               Nawabshah          p95   0.16668  0.0          -0.130267   \n",
       "0                    Sibi          p95  0.225637  0.0           0.124725   \n",
       "\n",
       "  HWMonths_p FLMonths_pearson-r FLMonths_p  \n",
       "0   0.000166           0.094183    0.00008  \n",
       "0   0.010895            0.02382   0.319574  \n",
       "0   0.099186          -0.016783   0.483149  \n",
       "0        0.0           0.085248    0.00036  \n",
       "0        0.0          -0.031763   0.184384  \n",
       "0        0.0           0.185498        0.0  "
      ]
     },
     "execution_count": 45,
     "metadata": {},
     "output_type": "execute_result"
    }
   ],
   "source": [
    "correlsResultData"
   ]
  },
  {
   "cell_type": "code",
   "execution_count": 46,
   "id": "3b9756ae-73cd-4cc6-9209-259bec4b0e5e",
   "metadata": {
    "tags": []
   },
   "outputs": [],
   "source": [
    "# Save the results as a csv\n",
    "correlsResultData.to_csv(rootPath/'cross-peril/hwfl_correlDailyTempsPrecip.csv', index=False)"
   ]
  },
  {
   "cell_type": "code",
   "execution_count": null,
   "id": "1f20b15f-740c-4dce-8483-01d110162a63",
   "metadata": {},
   "outputs": [],
   "source": []
  }
 ],
 "metadata": {
  "kernelspec": {
   "display_name": "Python 3 (ipykernel)",
   "language": "python",
   "name": "python3"
  },
  "language_info": {
   "codemirror_mode": {
    "name": "ipython",
    "version": 3
   },
   "file_extension": ".py",
   "mimetype": "text/x-python",
   "name": "python",
   "nbconvert_exporter": "python",
   "pygments_lexer": "ipython3",
   "version": "3.8.16"
  }
 },
 "nbformat": 4,
 "nbformat_minor": 5
}
