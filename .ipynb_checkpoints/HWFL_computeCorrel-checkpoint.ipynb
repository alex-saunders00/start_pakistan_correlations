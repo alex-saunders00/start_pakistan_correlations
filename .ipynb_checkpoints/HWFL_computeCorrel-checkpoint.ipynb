{
 "cells": [
  {
   "cell_type": "markdown",
   "id": "ee38695b-3a0c-4660-8cb8-323c70d05c58",
   "metadata": {},
   "source": [
    "# start_pakistan_correlations\n",
    "## HWFL_computeCorrel.ipynb\n",
    "This script computes correlation between the Pakistan HW and FL systems, using the data on the triggers per year which has already been computed via the codes \"HW_calcTriggers.ipynb\" and \"FL_calcTriggers.ipynb\". It compares the 19 year historical HW record with a 19 year record of FL triggers, derived via the YLY (and so we repeat for many iterations of the FL record and take an average of the ensemble result)."
   ]
  },
  {
   "cell_type": "code",
   "execution_count": 31,
   "id": "25f131c8-a727-4c7c-8b5d-060ea2456df8",
   "metadata": {
    "tags": []
   },
   "outputs": [
    {
     "name": "stderr",
     "output_type": "stream",
     "text": [
      "C:\\Users\\alexa\\AppData\\Local\\Temp\\ipykernel_19712\\4234477562.py:9: DeprecationWarning: Please use `pearsonr` from the `scipy.stats` namespace, the `scipy.stats.stats` namespace is deprecated.\n",
      "  from scipy.stats.stats import pearsonr\n"
     ]
    }
   ],
   "source": [
    "from pathlib import Path\n",
    "import os\n",
    "import sys\n",
    "import pandas as pd\n",
    "import numpy as np\n",
    "from datetime import datetime\n",
    "from datetime import date, timedelta\n",
    "import matplotlib.pyplot as plt\n",
    "from scipy.stats.stats import pearsonr"
   ]
  },
  {
   "cell_type": "code",
   "execution_count": 2,
   "id": "7a71d48e-ea0c-488b-abee-4e8bb994a743",
   "metadata": {
    "tags": []
   },
   "outputs": [],
   "source": [
    "# Set the root path\n",
    "rootPath = Path('C:/Users/alexa/Documents/02_work/02_start/02_deliv/05_pk_correlation/')"
   ]
  },
  {
   "cell_type": "markdown",
   "id": "7cd03ce4-0014-4235-b9cb-94381367dd17",
   "metadata": {},
   "source": [
    "## Get the HW and FL data on n triggers per year"
   ]
  },
  {
   "cell_type": "code",
   "execution_count": 15,
   "id": "4061a8d6-0bb5-4064-8b5e-c26e002e9c34",
   "metadata": {
    "tags": []
   },
   "outputs": [],
   "source": [
    "nyears=19\n",
    "flPath = rootPath/'fl/data/realisations'\n",
    "flData = pd.read_csv(flPath/('realisationsTriggersMax1_'+str(nyears)+'years.csv'), index_col=0).T"
   ]
  },
  {
   "cell_type": "code",
   "execution_count": 16,
   "id": "ddb96a25-59f7-4cbf-81aa-315d9b941878",
   "metadata": {
    "tags": []
   },
   "outputs": [
    {
     "data": {
      "text/html": [
       "<div>\n",
       "<style scoped>\n",
       "    .dataframe tbody tr th:only-of-type {\n",
       "        vertical-align: middle;\n",
       "    }\n",
       "\n",
       "    .dataframe tbody tr th {\n",
       "        vertical-align: top;\n",
       "    }\n",
       "\n",
       "    .dataframe thead th {\n",
       "        text-align: right;\n",
       "    }\n",
       "</style>\n",
       "<table border=\"1\" class=\"dataframe\">\n",
       "  <thead>\n",
       "    <tr style=\"text-align: right;\">\n",
       "      <th></th>\n",
       "      <th>1</th>\n",
       "      <th>2</th>\n",
       "      <th>3</th>\n",
       "      <th>4</th>\n",
       "      <th>5</th>\n",
       "      <th>6</th>\n",
       "      <th>7</th>\n",
       "      <th>8</th>\n",
       "      <th>9</th>\n",
       "      <th>10</th>\n",
       "      <th>...</th>\n",
       "      <th>9973</th>\n",
       "      <th>9974</th>\n",
       "      <th>9975</th>\n",
       "      <th>9976</th>\n",
       "      <th>9977</th>\n",
       "      <th>9978</th>\n",
       "      <th>9979</th>\n",
       "      <th>9980</th>\n",
       "      <th>9981</th>\n",
       "      <th>9982</th>\n",
       "    </tr>\n",
       "  </thead>\n",
       "  <tbody>\n",
       "    <tr>\n",
       "      <th>1</th>\n",
       "      <td>0.0</td>\n",
       "      <td>0.0</td>\n",
       "      <td>0.0</td>\n",
       "      <td>1.0</td>\n",
       "      <td>0.0</td>\n",
       "      <td>1.0</td>\n",
       "      <td>1.0</td>\n",
       "      <td>1.0</td>\n",
       "      <td>0.0</td>\n",
       "      <td>0.0</td>\n",
       "      <td>...</td>\n",
       "      <td>1.0</td>\n",
       "      <td>0.0</td>\n",
       "      <td>0.0</td>\n",
       "      <td>1.0</td>\n",
       "      <td>0.0</td>\n",
       "      <td>0.0</td>\n",
       "      <td>0.0</td>\n",
       "      <td>1.0</td>\n",
       "      <td>0.0</td>\n",
       "      <td>1.0</td>\n",
       "    </tr>\n",
       "    <tr>\n",
       "      <th>2</th>\n",
       "      <td>0.0</td>\n",
       "      <td>0.0</td>\n",
       "      <td>1.0</td>\n",
       "      <td>0.0</td>\n",
       "      <td>1.0</td>\n",
       "      <td>1.0</td>\n",
       "      <td>1.0</td>\n",
       "      <td>0.0</td>\n",
       "      <td>0.0</td>\n",
       "      <td>0.0</td>\n",
       "      <td>...</td>\n",
       "      <td>0.0</td>\n",
       "      <td>0.0</td>\n",
       "      <td>1.0</td>\n",
       "      <td>0.0</td>\n",
       "      <td>0.0</td>\n",
       "      <td>0.0</td>\n",
       "      <td>1.0</td>\n",
       "      <td>0.0</td>\n",
       "      <td>1.0</td>\n",
       "      <td>0.0</td>\n",
       "    </tr>\n",
       "    <tr>\n",
       "      <th>3</th>\n",
       "      <td>0.0</td>\n",
       "      <td>1.0</td>\n",
       "      <td>0.0</td>\n",
       "      <td>1.0</td>\n",
       "      <td>1.0</td>\n",
       "      <td>1.0</td>\n",
       "      <td>0.0</td>\n",
       "      <td>0.0</td>\n",
       "      <td>0.0</td>\n",
       "      <td>0.0</td>\n",
       "      <td>...</td>\n",
       "      <td>0.0</td>\n",
       "      <td>1.0</td>\n",
       "      <td>0.0</td>\n",
       "      <td>0.0</td>\n",
       "      <td>0.0</td>\n",
       "      <td>1.0</td>\n",
       "      <td>0.0</td>\n",
       "      <td>1.0</td>\n",
       "      <td>0.0</td>\n",
       "      <td>0.0</td>\n",
       "    </tr>\n",
       "    <tr>\n",
       "      <th>4</th>\n",
       "      <td>1.0</td>\n",
       "      <td>0.0</td>\n",
       "      <td>1.0</td>\n",
       "      <td>1.0</td>\n",
       "      <td>1.0</td>\n",
       "      <td>0.0</td>\n",
       "      <td>0.0</td>\n",
       "      <td>0.0</td>\n",
       "      <td>0.0</td>\n",
       "      <td>0.0</td>\n",
       "      <td>...</td>\n",
       "      <td>1.0</td>\n",
       "      <td>0.0</td>\n",
       "      <td>0.0</td>\n",
       "      <td>0.0</td>\n",
       "      <td>1.0</td>\n",
       "      <td>0.0</td>\n",
       "      <td>1.0</td>\n",
       "      <td>0.0</td>\n",
       "      <td>0.0</td>\n",
       "      <td>1.0</td>\n",
       "    </tr>\n",
       "    <tr>\n",
       "      <th>5</th>\n",
       "      <td>0.0</td>\n",
       "      <td>1.0</td>\n",
       "      <td>1.0</td>\n",
       "      <td>1.0</td>\n",
       "      <td>0.0</td>\n",
       "      <td>0.0</td>\n",
       "      <td>0.0</td>\n",
       "      <td>0.0</td>\n",
       "      <td>0.0</td>\n",
       "      <td>0.0</td>\n",
       "      <td>...</td>\n",
       "      <td>0.0</td>\n",
       "      <td>0.0</td>\n",
       "      <td>0.0</td>\n",
       "      <td>1.0</td>\n",
       "      <td>0.0</td>\n",
       "      <td>1.0</td>\n",
       "      <td>0.0</td>\n",
       "      <td>0.0</td>\n",
       "      <td>1.0</td>\n",
       "      <td>0.0</td>\n",
       "    </tr>\n",
       "    <tr>\n",
       "      <th>6</th>\n",
       "      <td>1.0</td>\n",
       "      <td>1.0</td>\n",
       "      <td>1.0</td>\n",
       "      <td>0.0</td>\n",
       "      <td>0.0</td>\n",
       "      <td>0.0</td>\n",
       "      <td>0.0</td>\n",
       "      <td>0.0</td>\n",
       "      <td>0.0</td>\n",
       "      <td>0.0</td>\n",
       "      <td>...</td>\n",
       "      <td>0.0</td>\n",
       "      <td>0.0</td>\n",
       "      <td>1.0</td>\n",
       "      <td>0.0</td>\n",
       "      <td>1.0</td>\n",
       "      <td>0.0</td>\n",
       "      <td>0.0</td>\n",
       "      <td>1.0</td>\n",
       "      <td>0.0</td>\n",
       "      <td>1.0</td>\n",
       "    </tr>\n",
       "    <tr>\n",
       "      <th>7</th>\n",
       "      <td>1.0</td>\n",
       "      <td>1.0</td>\n",
       "      <td>0.0</td>\n",
       "      <td>0.0</td>\n",
       "      <td>0.0</td>\n",
       "      <td>0.0</td>\n",
       "      <td>0.0</td>\n",
       "      <td>0.0</td>\n",
       "      <td>0.0</td>\n",
       "      <td>1.0</td>\n",
       "      <td>...</td>\n",
       "      <td>0.0</td>\n",
       "      <td>1.0</td>\n",
       "      <td>0.0</td>\n",
       "      <td>1.0</td>\n",
       "      <td>0.0</td>\n",
       "      <td>0.0</td>\n",
       "      <td>1.0</td>\n",
       "      <td>0.0</td>\n",
       "      <td>1.0</td>\n",
       "      <td>0.0</td>\n",
       "    </tr>\n",
       "    <tr>\n",
       "      <th>8</th>\n",
       "      <td>1.0</td>\n",
       "      <td>0.0</td>\n",
       "      <td>0.0</td>\n",
       "      <td>0.0</td>\n",
       "      <td>0.0</td>\n",
       "      <td>0.0</td>\n",
       "      <td>0.0</td>\n",
       "      <td>0.0</td>\n",
       "      <td>1.0</td>\n",
       "      <td>0.0</td>\n",
       "      <td>...</td>\n",
       "      <td>1.0</td>\n",
       "      <td>0.0</td>\n",
       "      <td>1.0</td>\n",
       "      <td>0.0</td>\n",
       "      <td>0.0</td>\n",
       "      <td>1.0</td>\n",
       "      <td>0.0</td>\n",
       "      <td>1.0</td>\n",
       "      <td>0.0</td>\n",
       "      <td>0.0</td>\n",
       "    </tr>\n",
       "    <tr>\n",
       "      <th>9</th>\n",
       "      <td>0.0</td>\n",
       "      <td>0.0</td>\n",
       "      <td>0.0</td>\n",
       "      <td>0.0</td>\n",
       "      <td>0.0</td>\n",
       "      <td>0.0</td>\n",
       "      <td>0.0</td>\n",
       "      <td>1.0</td>\n",
       "      <td>0.0</td>\n",
       "      <td>0.0</td>\n",
       "      <td>...</td>\n",
       "      <td>0.0</td>\n",
       "      <td>1.0</td>\n",
       "      <td>0.0</td>\n",
       "      <td>0.0</td>\n",
       "      <td>1.0</td>\n",
       "      <td>0.0</td>\n",
       "      <td>1.0</td>\n",
       "      <td>0.0</td>\n",
       "      <td>0.0</td>\n",
       "      <td>1.0</td>\n",
       "    </tr>\n",
       "    <tr>\n",
       "      <th>10</th>\n",
       "      <td>0.0</td>\n",
       "      <td>0.0</td>\n",
       "      <td>0.0</td>\n",
       "      <td>0.0</td>\n",
       "      <td>0.0</td>\n",
       "      <td>0.0</td>\n",
       "      <td>1.0</td>\n",
       "      <td>0.0</td>\n",
       "      <td>0.0</td>\n",
       "      <td>1.0</td>\n",
       "      <td>...</td>\n",
       "      <td>1.0</td>\n",
       "      <td>0.0</td>\n",
       "      <td>0.0</td>\n",
       "      <td>1.0</td>\n",
       "      <td>0.0</td>\n",
       "      <td>1.0</td>\n",
       "      <td>0.0</td>\n",
       "      <td>0.0</td>\n",
       "      <td>1.0</td>\n",
       "      <td>0.0</td>\n",
       "    </tr>\n",
       "    <tr>\n",
       "      <th>11</th>\n",
       "      <td>0.0</td>\n",
       "      <td>0.0</td>\n",
       "      <td>0.0</td>\n",
       "      <td>0.0</td>\n",
       "      <td>0.0</td>\n",
       "      <td>1.0</td>\n",
       "      <td>0.0</td>\n",
       "      <td>0.0</td>\n",
       "      <td>1.0</td>\n",
       "      <td>1.0</td>\n",
       "      <td>...</td>\n",
       "      <td>0.0</td>\n",
       "      <td>0.0</td>\n",
       "      <td>1.0</td>\n",
       "      <td>0.0</td>\n",
       "      <td>1.0</td>\n",
       "      <td>0.0</td>\n",
       "      <td>0.0</td>\n",
       "      <td>1.0</td>\n",
       "      <td>0.0</td>\n",
       "      <td>0.0</td>\n",
       "    </tr>\n",
       "    <tr>\n",
       "      <th>12</th>\n",
       "      <td>0.0</td>\n",
       "      <td>0.0</td>\n",
       "      <td>0.0</td>\n",
       "      <td>0.0</td>\n",
       "      <td>1.0</td>\n",
       "      <td>0.0</td>\n",
       "      <td>0.0</td>\n",
       "      <td>1.0</td>\n",
       "      <td>1.0</td>\n",
       "      <td>0.0</td>\n",
       "      <td>...</td>\n",
       "      <td>0.0</td>\n",
       "      <td>1.0</td>\n",
       "      <td>0.0</td>\n",
       "      <td>1.0</td>\n",
       "      <td>0.0</td>\n",
       "      <td>0.0</td>\n",
       "      <td>1.0</td>\n",
       "      <td>0.0</td>\n",
       "      <td>0.0</td>\n",
       "      <td>1.0</td>\n",
       "    </tr>\n",
       "    <tr>\n",
       "      <th>13</th>\n",
       "      <td>0.0</td>\n",
       "      <td>0.0</td>\n",
       "      <td>0.0</td>\n",
       "      <td>1.0</td>\n",
       "      <td>0.0</td>\n",
       "      <td>0.0</td>\n",
       "      <td>1.0</td>\n",
       "      <td>1.0</td>\n",
       "      <td>0.0</td>\n",
       "      <td>0.0</td>\n",
       "      <td>...</td>\n",
       "      <td>1.0</td>\n",
       "      <td>0.0</td>\n",
       "      <td>1.0</td>\n",
       "      <td>0.0</td>\n",
       "      <td>0.0</td>\n",
       "      <td>1.0</td>\n",
       "      <td>0.0</td>\n",
       "      <td>0.0</td>\n",
       "      <td>1.0</td>\n",
       "      <td>0.0</td>\n",
       "    </tr>\n",
       "    <tr>\n",
       "      <th>14</th>\n",
       "      <td>0.0</td>\n",
       "      <td>0.0</td>\n",
       "      <td>1.0</td>\n",
       "      <td>0.0</td>\n",
       "      <td>0.0</td>\n",
       "      <td>1.0</td>\n",
       "      <td>1.0</td>\n",
       "      <td>0.0</td>\n",
       "      <td>0.0</td>\n",
       "      <td>0.0</td>\n",
       "      <td>...</td>\n",
       "      <td>0.0</td>\n",
       "      <td>1.0</td>\n",
       "      <td>0.0</td>\n",
       "      <td>0.0</td>\n",
       "      <td>1.0</td>\n",
       "      <td>0.0</td>\n",
       "      <td>0.0</td>\n",
       "      <td>1.0</td>\n",
       "      <td>0.0</td>\n",
       "      <td>0.0</td>\n",
       "    </tr>\n",
       "    <tr>\n",
       "      <th>15</th>\n",
       "      <td>0.0</td>\n",
       "      <td>1.0</td>\n",
       "      <td>0.0</td>\n",
       "      <td>0.0</td>\n",
       "      <td>1.0</td>\n",
       "      <td>1.0</td>\n",
       "      <td>0.0</td>\n",
       "      <td>0.0</td>\n",
       "      <td>0.0</td>\n",
       "      <td>0.0</td>\n",
       "      <td>...</td>\n",
       "      <td>1.0</td>\n",
       "      <td>0.0</td>\n",
       "      <td>0.0</td>\n",
       "      <td>1.0</td>\n",
       "      <td>0.0</td>\n",
       "      <td>0.0</td>\n",
       "      <td>1.0</td>\n",
       "      <td>0.0</td>\n",
       "      <td>0.0</td>\n",
       "      <td>0.0</td>\n",
       "    </tr>\n",
       "    <tr>\n",
       "      <th>16</th>\n",
       "      <td>1.0</td>\n",
       "      <td>0.0</td>\n",
       "      <td>0.0</td>\n",
       "      <td>1.0</td>\n",
       "      <td>1.0</td>\n",
       "      <td>0.0</td>\n",
       "      <td>0.0</td>\n",
       "      <td>0.0</td>\n",
       "      <td>0.0</td>\n",
       "      <td>0.0</td>\n",
       "      <td>...</td>\n",
       "      <td>0.0</td>\n",
       "      <td>0.0</td>\n",
       "      <td>1.0</td>\n",
       "      <td>0.0</td>\n",
       "      <td>0.0</td>\n",
       "      <td>1.0</td>\n",
       "      <td>0.0</td>\n",
       "      <td>0.0</td>\n",
       "      <td>0.0</td>\n",
       "      <td>1.0</td>\n",
       "    </tr>\n",
       "    <tr>\n",
       "      <th>17</th>\n",
       "      <td>0.0</td>\n",
       "      <td>0.0</td>\n",
       "      <td>1.0</td>\n",
       "      <td>1.0</td>\n",
       "      <td>0.0</td>\n",
       "      <td>0.0</td>\n",
       "      <td>0.0</td>\n",
       "      <td>0.0</td>\n",
       "      <td>0.0</td>\n",
       "      <td>1.0</td>\n",
       "      <td>...</td>\n",
       "      <td>0.0</td>\n",
       "      <td>1.0</td>\n",
       "      <td>0.0</td>\n",
       "      <td>0.0</td>\n",
       "      <td>1.0</td>\n",
       "      <td>0.0</td>\n",
       "      <td>0.0</td>\n",
       "      <td>0.0</td>\n",
       "      <td>1.0</td>\n",
       "      <td>0.0</td>\n",
       "    </tr>\n",
       "    <tr>\n",
       "      <th>18</th>\n",
       "      <td>0.0</td>\n",
       "      <td>1.0</td>\n",
       "      <td>1.0</td>\n",
       "      <td>0.0</td>\n",
       "      <td>0.0</td>\n",
       "      <td>0.0</td>\n",
       "      <td>0.0</td>\n",
       "      <td>0.0</td>\n",
       "      <td>1.0</td>\n",
       "      <td>0.0</td>\n",
       "      <td>...</td>\n",
       "      <td>1.0</td>\n",
       "      <td>0.0</td>\n",
       "      <td>0.0</td>\n",
       "      <td>1.0</td>\n",
       "      <td>0.0</td>\n",
       "      <td>0.0</td>\n",
       "      <td>0.0</td>\n",
       "      <td>1.0</td>\n",
       "      <td>0.0</td>\n",
       "      <td>0.0</td>\n",
       "    </tr>\n",
       "    <tr>\n",
       "      <th>19</th>\n",
       "      <td>1.0</td>\n",
       "      <td>1.0</td>\n",
       "      <td>0.0</td>\n",
       "      <td>0.0</td>\n",
       "      <td>0.0</td>\n",
       "      <td>0.0</td>\n",
       "      <td>0.0</td>\n",
       "      <td>1.0</td>\n",
       "      <td>0.0</td>\n",
       "      <td>0.0</td>\n",
       "      <td>...</td>\n",
       "      <td>0.0</td>\n",
       "      <td>0.0</td>\n",
       "      <td>1.0</td>\n",
       "      <td>0.0</td>\n",
       "      <td>0.0</td>\n",
       "      <td>0.0</td>\n",
       "      <td>1.0</td>\n",
       "      <td>0.0</td>\n",
       "      <td>0.0</td>\n",
       "      <td>1.0</td>\n",
       "    </tr>\n",
       "  </tbody>\n",
       "</table>\n",
       "<p>19 rows × 9982 columns</p>\n",
       "</div>"
      ],
      "text/plain": [
       "    1     2     3     4     5     6     7     8     9     10    ...  9973  \\\n",
       "1    0.0   0.0   0.0   1.0   0.0   1.0   1.0   1.0   0.0   0.0  ...   1.0   \n",
       "2    0.0   0.0   1.0   0.0   1.0   1.0   1.0   0.0   0.0   0.0  ...   0.0   \n",
       "3    0.0   1.0   0.0   1.0   1.0   1.0   0.0   0.0   0.0   0.0  ...   0.0   \n",
       "4    1.0   0.0   1.0   1.0   1.0   0.0   0.0   0.0   0.0   0.0  ...   1.0   \n",
       "5    0.0   1.0   1.0   1.0   0.0   0.0   0.0   0.0   0.0   0.0  ...   0.0   \n",
       "6    1.0   1.0   1.0   0.0   0.0   0.0   0.0   0.0   0.0   0.0  ...   0.0   \n",
       "7    1.0   1.0   0.0   0.0   0.0   0.0   0.0   0.0   0.0   1.0  ...   0.0   \n",
       "8    1.0   0.0   0.0   0.0   0.0   0.0   0.0   0.0   1.0   0.0  ...   1.0   \n",
       "9    0.0   0.0   0.0   0.0   0.0   0.0   0.0   1.0   0.0   0.0  ...   0.0   \n",
       "10   0.0   0.0   0.0   0.0   0.0   0.0   1.0   0.0   0.0   1.0  ...   1.0   \n",
       "11   0.0   0.0   0.0   0.0   0.0   1.0   0.0   0.0   1.0   1.0  ...   0.0   \n",
       "12   0.0   0.0   0.0   0.0   1.0   0.0   0.0   1.0   1.0   0.0  ...   0.0   \n",
       "13   0.0   0.0   0.0   1.0   0.0   0.0   1.0   1.0   0.0   0.0  ...   1.0   \n",
       "14   0.0   0.0   1.0   0.0   0.0   1.0   1.0   0.0   0.0   0.0  ...   0.0   \n",
       "15   0.0   1.0   0.0   0.0   1.0   1.0   0.0   0.0   0.0   0.0  ...   1.0   \n",
       "16   1.0   0.0   0.0   1.0   1.0   0.0   0.0   0.0   0.0   0.0  ...   0.0   \n",
       "17   0.0   0.0   1.0   1.0   0.0   0.0   0.0   0.0   0.0   1.0  ...   0.0   \n",
       "18   0.0   1.0   1.0   0.0   0.0   0.0   0.0   0.0   1.0   0.0  ...   1.0   \n",
       "19   1.0   1.0   0.0   0.0   0.0   0.0   0.0   1.0   0.0   0.0  ...   0.0   \n",
       "\n",
       "    9974  9975  9976  9977  9978  9979  9980  9981  9982  \n",
       "1    0.0   0.0   1.0   0.0   0.0   0.0   1.0   0.0   1.0  \n",
       "2    0.0   1.0   0.0   0.0   0.0   1.0   0.0   1.0   0.0  \n",
       "3    1.0   0.0   0.0   0.0   1.0   0.0   1.0   0.0   0.0  \n",
       "4    0.0   0.0   0.0   1.0   0.0   1.0   0.0   0.0   1.0  \n",
       "5    0.0   0.0   1.0   0.0   1.0   0.0   0.0   1.0   0.0  \n",
       "6    0.0   1.0   0.0   1.0   0.0   0.0   1.0   0.0   1.0  \n",
       "7    1.0   0.0   1.0   0.0   0.0   1.0   0.0   1.0   0.0  \n",
       "8    0.0   1.0   0.0   0.0   1.0   0.0   1.0   0.0   0.0  \n",
       "9    1.0   0.0   0.0   1.0   0.0   1.0   0.0   0.0   1.0  \n",
       "10   0.0   0.0   1.0   0.0   1.0   0.0   0.0   1.0   0.0  \n",
       "11   0.0   1.0   0.0   1.0   0.0   0.0   1.0   0.0   0.0  \n",
       "12   1.0   0.0   1.0   0.0   0.0   1.0   0.0   0.0   1.0  \n",
       "13   0.0   1.0   0.0   0.0   1.0   0.0   0.0   1.0   0.0  \n",
       "14   1.0   0.0   0.0   1.0   0.0   0.0   1.0   0.0   0.0  \n",
       "15   0.0   0.0   1.0   0.0   0.0   1.0   0.0   0.0   0.0  \n",
       "16   0.0   1.0   0.0   0.0   1.0   0.0   0.0   0.0   1.0  \n",
       "17   1.0   0.0   0.0   1.0   0.0   0.0   0.0   1.0   0.0  \n",
       "18   0.0   0.0   1.0   0.0   0.0   0.0   1.0   0.0   0.0  \n",
       "19   0.0   1.0   0.0   0.0   0.0   1.0   0.0   0.0   1.0  \n",
       "\n",
       "[19 rows x 9982 columns]"
      ]
     },
     "execution_count": 16,
     "metadata": {},
     "output_type": "execute_result"
    }
   ],
   "source": [
    "flData"
   ]
  },
  {
   "cell_type": "code",
   "execution_count": 39,
   "id": "36bdcacf-ea31-485f-8d1d-7e70efc67662",
   "metadata": {
    "tags": []
   },
   "outputs": [
    {
     "data": {
      "text/html": [
       "<div>\n",
       "<style scoped>\n",
       "    .dataframe tbody tr th:only-of-type {\n",
       "        vertical-align: middle;\n",
       "    }\n",
       "\n",
       "    .dataframe tbody tr th {\n",
       "        vertical-align: top;\n",
       "    }\n",
       "\n",
       "    .dataframe thead th {\n",
       "        text-align: right;\n",
       "    }\n",
       "</style>\n",
       "<table border=\"1\" class=\"dataframe\">\n",
       "  <thead>\n",
       "    <tr style=\"text-align: right;\">\n",
       "      <th></th>\n",
       "      <th>Jacobabad</th>\n",
       "      <th>Karachi_Jinnah_Airport</th>\n",
       "      <th>Lahore</th>\n",
       "      <th>Multan</th>\n",
       "      <th>Nawabshah</th>\n",
       "      <th>Sibi</th>\n",
       "      <th>allSites</th>\n",
       "    </tr>\n",
       "  </thead>\n",
       "  <tbody>\n",
       "    <tr>\n",
       "      <th>1</th>\n",
       "      <td>0.0</td>\n",
       "      <td>0.0</td>\n",
       "      <td>0.0</td>\n",
       "      <td>0.0</td>\n",
       "      <td>0.0</td>\n",
       "      <td>0.0</td>\n",
       "      <td>0.0</td>\n",
       "    </tr>\n",
       "    <tr>\n",
       "      <th>2</th>\n",
       "      <td>0.0</td>\n",
       "      <td>1.0</td>\n",
       "      <td>1.0</td>\n",
       "      <td>1.0</td>\n",
       "      <td>0.0</td>\n",
       "      <td>0.0</td>\n",
       "      <td>3.0</td>\n",
       "    </tr>\n",
       "    <tr>\n",
       "      <th>3</th>\n",
       "      <td>1.0</td>\n",
       "      <td>0.0</td>\n",
       "      <td>0.0</td>\n",
       "      <td>0.0</td>\n",
       "      <td>0.0</td>\n",
       "      <td>0.0</td>\n",
       "      <td>1.0</td>\n",
       "    </tr>\n",
       "    <tr>\n",
       "      <th>4</th>\n",
       "      <td>0.0</td>\n",
       "      <td>1.0</td>\n",
       "      <td>1.0</td>\n",
       "      <td>1.0</td>\n",
       "      <td>0.0</td>\n",
       "      <td>0.0</td>\n",
       "      <td>3.0</td>\n",
       "    </tr>\n",
       "    <tr>\n",
       "      <th>5</th>\n",
       "      <td>0.0</td>\n",
       "      <td>0.0</td>\n",
       "      <td>0.0</td>\n",
       "      <td>0.0</td>\n",
       "      <td>0.0</td>\n",
       "      <td>0.0</td>\n",
       "      <td>0.0</td>\n",
       "    </tr>\n",
       "    <tr>\n",
       "      <th>6</th>\n",
       "      <td>1.0</td>\n",
       "      <td>0.0</td>\n",
       "      <td>1.0</td>\n",
       "      <td>0.0</td>\n",
       "      <td>0.0</td>\n",
       "      <td>0.0</td>\n",
       "      <td>2.0</td>\n",
       "    </tr>\n",
       "    <tr>\n",
       "      <th>7</th>\n",
       "      <td>0.0</td>\n",
       "      <td>0.0</td>\n",
       "      <td>0.0</td>\n",
       "      <td>1.0</td>\n",
       "      <td>0.0</td>\n",
       "      <td>0.0</td>\n",
       "      <td>1.0</td>\n",
       "    </tr>\n",
       "    <tr>\n",
       "      <th>8</th>\n",
       "      <td>0.0</td>\n",
       "      <td>0.0</td>\n",
       "      <td>0.0</td>\n",
       "      <td>1.0</td>\n",
       "      <td>0.0</td>\n",
       "      <td>0.0</td>\n",
       "      <td>1.0</td>\n",
       "    </tr>\n",
       "    <tr>\n",
       "      <th>9</th>\n",
       "      <td>0.0</td>\n",
       "      <td>0.0</td>\n",
       "      <td>1.0</td>\n",
       "      <td>1.0</td>\n",
       "      <td>0.0</td>\n",
       "      <td>0.0</td>\n",
       "      <td>2.0</td>\n",
       "    </tr>\n",
       "    <tr>\n",
       "      <th>10</th>\n",
       "      <td>0.0</td>\n",
       "      <td>1.0</td>\n",
       "      <td>1.0</td>\n",
       "      <td>0.0</td>\n",
       "      <td>0.0</td>\n",
       "      <td>0.0</td>\n",
       "      <td>2.0</td>\n",
       "    </tr>\n",
       "    <tr>\n",
       "      <th>11</th>\n",
       "      <td>1.0</td>\n",
       "      <td>0.0</td>\n",
       "      <td>1.0</td>\n",
       "      <td>0.0</td>\n",
       "      <td>1.0</td>\n",
       "      <td>0.0</td>\n",
       "      <td>3.0</td>\n",
       "    </tr>\n",
       "    <tr>\n",
       "      <th>12</th>\n",
       "      <td>1.0</td>\n",
       "      <td>1.0</td>\n",
       "      <td>0.0</td>\n",
       "      <td>0.0</td>\n",
       "      <td>0.0</td>\n",
       "      <td>1.0</td>\n",
       "      <td>3.0</td>\n",
       "    </tr>\n",
       "    <tr>\n",
       "      <th>13</th>\n",
       "      <td>1.0</td>\n",
       "      <td>1.0</td>\n",
       "      <td>0.0</td>\n",
       "      <td>0.0</td>\n",
       "      <td>1.0</td>\n",
       "      <td>1.0</td>\n",
       "      <td>4.0</td>\n",
       "    </tr>\n",
       "    <tr>\n",
       "      <th>14</th>\n",
       "      <td>1.0</td>\n",
       "      <td>1.0</td>\n",
       "      <td>0.0</td>\n",
       "      <td>1.0</td>\n",
       "      <td>1.0</td>\n",
       "      <td>1.0</td>\n",
       "      <td>5.0</td>\n",
       "    </tr>\n",
       "    <tr>\n",
       "      <th>15</th>\n",
       "      <td>1.0</td>\n",
       "      <td>1.0</td>\n",
       "      <td>1.0</td>\n",
       "      <td>1.0</td>\n",
       "      <td>1.0</td>\n",
       "      <td>1.0</td>\n",
       "      <td>6.0</td>\n",
       "    </tr>\n",
       "    <tr>\n",
       "      <th>16</th>\n",
       "      <td>1.0</td>\n",
       "      <td>0.0</td>\n",
       "      <td>1.0</td>\n",
       "      <td>1.0</td>\n",
       "      <td>1.0</td>\n",
       "      <td>1.0</td>\n",
       "      <td>5.0</td>\n",
       "    </tr>\n",
       "    <tr>\n",
       "      <th>17</th>\n",
       "      <td>1.0</td>\n",
       "      <td>1.0</td>\n",
       "      <td>0.0</td>\n",
       "      <td>1.0</td>\n",
       "      <td>0.0</td>\n",
       "      <td>1.0</td>\n",
       "      <td>4.0</td>\n",
       "    </tr>\n",
       "    <tr>\n",
       "      <th>18</th>\n",
       "      <td>0.0</td>\n",
       "      <td>1.0</td>\n",
       "      <td>1.0</td>\n",
       "      <td>0.0</td>\n",
       "      <td>0.0</td>\n",
       "      <td>1.0</td>\n",
       "      <td>3.0</td>\n",
       "    </tr>\n",
       "    <tr>\n",
       "      <th>19</th>\n",
       "      <td>0.0</td>\n",
       "      <td>0.0</td>\n",
       "      <td>0.0</td>\n",
       "      <td>1.0</td>\n",
       "      <td>1.0</td>\n",
       "      <td>1.0</td>\n",
       "      <td>3.0</td>\n",
       "    </tr>\n",
       "  </tbody>\n",
       "</table>\n",
       "</div>"
      ],
      "text/plain": [
       "    Jacobabad  Karachi_Jinnah_Airport  Lahore  Multan  Nawabshah  Sibi  \\\n",
       "1         0.0                     0.0     0.0     0.0        0.0   0.0   \n",
       "2         0.0                     1.0     1.0     1.0        0.0   0.0   \n",
       "3         1.0                     0.0     0.0     0.0        0.0   0.0   \n",
       "4         0.0                     1.0     1.0     1.0        0.0   0.0   \n",
       "5         0.0                     0.0     0.0     0.0        0.0   0.0   \n",
       "6         1.0                     0.0     1.0     0.0        0.0   0.0   \n",
       "7         0.0                     0.0     0.0     1.0        0.0   0.0   \n",
       "8         0.0                     0.0     0.0     1.0        0.0   0.0   \n",
       "9         0.0                     0.0     1.0     1.0        0.0   0.0   \n",
       "10        0.0                     1.0     1.0     0.0        0.0   0.0   \n",
       "11        1.0                     0.0     1.0     0.0        1.0   0.0   \n",
       "12        1.0                     1.0     0.0     0.0        0.0   1.0   \n",
       "13        1.0                     1.0     0.0     0.0        1.0   1.0   \n",
       "14        1.0                     1.0     0.0     1.0        1.0   1.0   \n",
       "15        1.0                     1.0     1.0     1.0        1.0   1.0   \n",
       "16        1.0                     0.0     1.0     1.0        1.0   1.0   \n",
       "17        1.0                     1.0     0.0     1.0        0.0   1.0   \n",
       "18        0.0                     1.0     1.0     0.0        0.0   1.0   \n",
       "19        0.0                     0.0     0.0     1.0        1.0   1.0   \n",
       "\n",
       "    allSites  \n",
       "1        0.0  \n",
       "2        3.0  \n",
       "3        1.0  \n",
       "4        3.0  \n",
       "5        0.0  \n",
       "6        2.0  \n",
       "7        1.0  \n",
       "8        1.0  \n",
       "9        2.0  \n",
       "10       2.0  \n",
       "11       3.0  \n",
       "12       3.0  \n",
       "13       4.0  \n",
       "14       5.0  \n",
       "15       6.0  \n",
       "16       5.0  \n",
       "17       4.0  \n",
       "18       3.0  \n",
       "19       3.0  "
      ]
     },
     "execution_count": 39,
     "metadata": {},
     "output_type": "execute_result"
    }
   ],
   "source": [
    "hwPath = rootPath/'hw/data/city_triggers'\n",
    "hwData = pd.read_csv(hwPath/'triggerYears.csv', index_col=0)\n",
    "\n",
    "# Set the actual years back to arbitrary years from 1 to 19\n",
    "hwData.index=list(range(1,len(hwData.index)+1))\n",
    "\n",
    "# Cap triggers at max of one per location per year and add a column with total no triggers across all locations per year\n",
    "hwData[hwData>1]=1\n",
    "hwData['allSites']=hwData.T.sum()\n",
    "\n",
    "hw=hwData.allSites\n",
    "\n",
    "hwData"
   ]
  },
  {
   "cell_type": "markdown",
   "id": "31c1dbaa-61ba-44d1-8870-f9d89ca54b7f",
   "metadata": {
    "tags": []
   },
   "source": [
    "## Compute correlation in the trigger time series for the two perils\n",
    "Compare the binary trigger / no trigger from flood with the number of locations triggered for heatwave. Repeat it for every realisation of the flood results, then take the median as the final result."
   ]
  },
  {
   "cell_type": "code",
   "execution_count": 40,
   "id": "e56314f4-d3ab-431e-850c-166a198e49f5",
   "metadata": {
    "tags": []
   },
   "outputs": [],
   "source": [
    "# Loop through the flood realisations\n",
    "correlsResultData=pd.DataFrame(data=[], index=['FLRealisation','pearson-r','p']).T\n",
    "\n",
    "for i in list(flData.columns):\n",
    "    \n",
    "    # Get the flood realisation\n",
    "    fl=flData[i]\n",
    "    \n",
    "    # Compute Pearson correlation between hw and fl\n",
    "    correlResult = list(pearsonr(hw, fl)) # (Pearson's correlation coefficient, 2-tailed p-value)\n",
    "    \n",
    "    # Record in dataframe\n",
    "    correlResultData  = pd.DataFrame(data=[i] + correlResult, index=correlsResultData.columns).T\n",
    "    correlsResultData = pd.concat(objs=[correlsResultData, correlResultData])"
   ]
  },
  {
   "cell_type": "code",
   "execution_count": 79,
   "id": "25492442-f7b7-4331-a535-d92312f3475c",
   "metadata": {
    "tags": []
   },
   "outputs": [],
   "source": [
    "# Write out as csv\n",
    "outPath=rootPath/'cross-peril'\n",
    "outPath.mkdir(exist_ok=True)\n",
    "correlsResultData.to_csv(outPath/'hwfl_correlation.csv', index=False)"
   ]
  },
  {
   "cell_type": "markdown",
   "id": "18ed06b6-3fc9-48f2-a9b8-456f2b209c2c",
   "metadata": {},
   "source": [
    "## Summarize correlation results across the realisations"
   ]
  },
  {
   "cell_type": "code",
   "execution_count": 66,
   "id": "c75d6b41-6a3c-4733-998f-035d7aa14e20",
   "metadata": {
    "tags": []
   },
   "outputs": [
    {
     "data": {
      "text/html": [
       "<div>\n",
       "<style scoped>\n",
       "    .dataframe tbody tr th:only-of-type {\n",
       "        vertical-align: middle;\n",
       "    }\n",
       "\n",
       "    .dataframe tbody tr th {\n",
       "        vertical-align: top;\n",
       "    }\n",
       "\n",
       "    .dataframe thead th {\n",
       "        text-align: right;\n",
       "    }\n",
       "</style>\n",
       "<table border=\"1\" class=\"dataframe\">\n",
       "  <thead>\n",
       "    <tr style=\"text-align: right;\">\n",
       "      <th></th>\n",
       "      <th>FLRealisation</th>\n",
       "      <th>pearson-r</th>\n",
       "      <th>p</th>\n",
       "    </tr>\n",
       "  </thead>\n",
       "  <tbody>\n",
       "    <tr>\n",
       "      <th>count</th>\n",
       "      <td>9982.000000</td>\n",
       "      <td>9982.000000</td>\n",
       "      <td>9982.000000</td>\n",
       "    </tr>\n",
       "    <tr>\n",
       "      <th>mean</th>\n",
       "      <td>4991.500000</td>\n",
       "      <td>0.000443</td>\n",
       "      <td>0.484274</td>\n",
       "    </tr>\n",
       "    <tr>\n",
       "      <th>std</th>\n",
       "      <td>2881.699527</td>\n",
       "      <td>0.247948</td>\n",
       "      <td>0.295515</td>\n",
       "    </tr>\n",
       "    <tr>\n",
       "      <th>min</th>\n",
       "      <td>1.000000</td>\n",
       "      <td>-0.767004</td>\n",
       "      <td>0.000127</td>\n",
       "    </tr>\n",
       "    <tr>\n",
       "      <th>25%</th>\n",
       "      <td>2496.250000</td>\n",
       "      <td>-0.178193</td>\n",
       "      <td>0.234816</td>\n",
       "    </tr>\n",
       "    <tr>\n",
       "      <th>50%</th>\n",
       "      <td>4991.500000</td>\n",
       "      <td>-0.004678</td>\n",
       "      <td>0.465472</td>\n",
       "    </tr>\n",
       "    <tr>\n",
       "      <th>75%</th>\n",
       "      <td>7486.750000</td>\n",
       "      <td>0.179918</td>\n",
       "      <td>0.740640</td>\n",
       "    </tr>\n",
       "    <tr>\n",
       "      <th>max</th>\n",
       "      <td>9982.000000</td>\n",
       "      <td>0.759634</td>\n",
       "      <td>0.984836</td>\n",
       "    </tr>\n",
       "    <tr>\n",
       "      <th>median</th>\n",
       "      <td>4991.500000</td>\n",
       "      <td>-0.004678</td>\n",
       "      <td>0.465472</td>\n",
       "    </tr>\n",
       "  </tbody>\n",
       "</table>\n",
       "</div>"
      ],
      "text/plain": [
       "        FLRealisation    pearson-r            p\n",
       "count     9982.000000  9982.000000  9982.000000\n",
       "mean      4991.500000     0.000443     0.484274\n",
       "std       2881.699527     0.247948     0.295515\n",
       "min          1.000000    -0.767004     0.000127\n",
       "25%       2496.250000    -0.178193     0.234816\n",
       "50%       4991.500000    -0.004678     0.465472\n",
       "75%       7486.750000     0.179918     0.740640\n",
       "max       9982.000000     0.759634     0.984836\n",
       "median    4991.500000    -0.004678     0.465472"
      ]
     },
     "execution_count": 66,
     "metadata": {},
     "output_type": "execute_result"
    }
   ],
   "source": [
    "# Add median to pandas describe\n",
    "stats=correlsResultData.describe()\n",
    "medi = pd.DataFrame(correlsResultData.median()).T\n",
    "medi.index=['median']\n",
    "correlResultsSummary = pd.concat(objs=[stats, medi])\n",
    "correlResultsSummary"
   ]
  },
  {
   "cell_type": "markdown",
   "id": "d1f3aa83-0288-499d-bf6a-9771d90d3179",
   "metadata": {
    "tags": []
   },
   "source": [
    "The high standard deviation indicates a large amount of uncertainty in the result. On average the statistical significance for each realisation is low."
   ]
  },
  {
   "cell_type": "markdown",
   "id": "7672ff7b-8749-4c98-bdb1-0c5b99a0f681",
   "metadata": {},
   "source": [
    "## Check the results for the realisation which had the highest statistical significance\n",
    "Take the top 10%ile for example"
   ]
  },
  {
   "cell_type": "code",
   "execution_count": 74,
   "id": "9f4038b7-41ac-48d5-bc6e-5e8ad58b4484",
   "metadata": {
    "tags": []
   },
   "outputs": [
    {
     "name": "stdout",
     "output_type": "stream",
     "text": [
      "0.0007234592455512623\n"
     ]
    },
    {
     "data": {
      "text/html": [
       "<div>\n",
       "<style scoped>\n",
       "    .dataframe tbody tr th:only-of-type {\n",
       "        vertical-align: middle;\n",
       "    }\n",
       "\n",
       "    .dataframe tbody tr th {\n",
       "        vertical-align: top;\n",
       "    }\n",
       "\n",
       "    .dataframe thead th {\n",
       "        text-align: right;\n",
       "    }\n",
       "</style>\n",
       "<table border=\"1\" class=\"dataframe\">\n",
       "  <thead>\n",
       "    <tr style=\"text-align: right;\">\n",
       "      <th></th>\n",
       "      <th>FLRealisation</th>\n",
       "      <th>pearson-r</th>\n",
       "      <th>p</th>\n",
       "    </tr>\n",
       "  </thead>\n",
       "  <tbody>\n",
       "    <tr>\n",
       "      <th>count</th>\n",
       "      <td>13.000000</td>\n",
       "      <td>13.000000</td>\n",
       "      <td>13.000000</td>\n",
       "    </tr>\n",
       "    <tr>\n",
       "      <th>mean</th>\n",
       "      <td>4896.769231</td>\n",
       "      <td>0.164835</td>\n",
       "      <td>0.000414</td>\n",
       "    </tr>\n",
       "    <tr>\n",
       "      <th>std</th>\n",
       "      <td>1651.045535</td>\n",
       "      <td>0.744070</td>\n",
       "      <td>0.000243</td>\n",
       "    </tr>\n",
       "    <tr>\n",
       "      <th>min</th>\n",
       "      <td>504.000000</td>\n",
       "      <td>-0.767004</td>\n",
       "      <td>0.000127</td>\n",
       "    </tr>\n",
       "    <tr>\n",
       "      <th>25%</th>\n",
       "      <td>4510.000000</td>\n",
       "      <td>-0.724929</td>\n",
       "      <td>0.000177</td>\n",
       "    </tr>\n",
       "    <tr>\n",
       "      <th>50%</th>\n",
       "      <td>5112.000000</td>\n",
       "      <td>0.706379</td>\n",
       "      <td>0.000446</td>\n",
       "    </tr>\n",
       "    <tr>\n",
       "      <th>75%</th>\n",
       "      <td>5835.000000</td>\n",
       "      <td>0.736408</td>\n",
       "      <td>0.000723</td>\n",
       "    </tr>\n",
       "    <tr>\n",
       "      <th>max</th>\n",
       "      <td>7191.000000</td>\n",
       "      <td>0.759634</td>\n",
       "      <td>0.000723</td>\n",
       "    </tr>\n",
       "    <tr>\n",
       "      <th>median</th>\n",
       "      <td>5112.000000</td>\n",
       "      <td>0.706379</td>\n",
       "      <td>0.000446</td>\n",
       "    </tr>\n",
       "  </tbody>\n",
       "</table>\n",
       "</div>"
      ],
      "text/plain": [
       "        FLRealisation  pearson-r          p\n",
       "count       13.000000  13.000000  13.000000\n",
       "mean      4896.769231   0.164835   0.000414\n",
       "std       1651.045535   0.744070   0.000243\n",
       "min        504.000000  -0.767004   0.000127\n",
       "25%       4510.000000  -0.724929   0.000177\n",
       "50%       5112.000000   0.706379   0.000446\n",
       "75%       5835.000000   0.736408   0.000723\n",
       "max       7191.000000   0.759634   0.000723\n",
       "median    5112.000000   0.706379   0.000446"
      ]
     },
     "execution_count": 74,
     "metadata": {},
     "output_type": "execute_result"
    }
   ],
   "source": [
    "# Add median to pandas describe\n",
    "quant=0.001\n",
    "print(np.quantile(correlsResultData.p,quant))\n",
    "correlsResultDataSub = correlsResultData[correlsResultData.p<=np.quantile(correlsResultData.p,quant)]\n",
    "# correlsResultDataSub = correlsResultData[correlsResultData.p<=0.05]\n",
    "stats=correlsResultDataSub.describe()\n",
    "medi = pd.DataFrame(correlsResultDataSub.median()).T\n",
    "medi.index=['median']\n",
    "correlResultsSubSummary = pd.concat(objs=[stats, medi])\n",
    "correlResultsSubSummary"
   ]
  },
  {
   "cell_type": "markdown",
   "id": "07ba223c-52e4-43f9-9a6f-18d5be7f5053",
   "metadata": {
    "tags": []
   },
   "source": [
    "The end median result is very sensitive to what threshold (or quantile) we use. It can flip from positive to negative. This is because choosing the most statistically significant results favors the results which have a strong magnitude signal i.e., strong positive, or strong negative. So we get a mix of +0.7 and -0.7. The median can just happen to be either a negative or positive, but always strong. "
   ]
  },
  {
   "cell_type": "markdown",
   "id": "376a6618-6ebf-49f4-ad04-1bf101f04b03",
   "metadata": {},
   "source": [
    "The random ordering might be causing issues. Should use sliding cross-correlation here?"
   ]
  },
  {
   "cell_type": "markdown",
   "id": "9c61ce46-2efa-458b-88df-52b8a3f264fa",
   "metadata": {},
   "source": [
    "But this also suggests that we should look at the mean. Each realisation can produce a potentially strong result (statistically significant and with a strong magnitude). Because our realisations represent all possible versions of reality. Maybe we need a different metric here, which looks at similarity rather than correlation? I.e., a metric that disregards the order"
   ]
  },
  {
   "cell_type": "markdown",
   "id": "3949f041-4af6-41a9-bc0d-1d73267bcaac",
   "metadata": {},
   "source": [
    "### Note\n",
    "Since we have allowed up to 6 triggers for the heatwave model, this correlation describes the likelihood that having more activations in a heatwave season increases (or decreases) the likelihood of having a flood activation."
   ]
  },
  {
   "cell_type": "code",
   "execution_count": null,
   "id": "72a1ff81-1047-4ab0-ba20-b9c3e02cde75",
   "metadata": {},
   "outputs": [],
   "source": []
  },
  {
   "cell_type": "markdown",
   "id": "48dfece0-6e9b-4fb4-95f4-543ffc36c88c",
   "metadata": {},
   "source": [
    "#### Does it make a difference to normalize the heatwave triggers to [0,1] by dividing by 6?"
   ]
  },
  {
   "cell_type": "markdown",
   "id": "e66e03d8-4264-4fd3-842e-8deac2a4a9e2",
   "metadata": {},
   "source": [
    "## Time-lagged cross correlation"
   ]
  },
  {
   "cell_type": "code",
   "execution_count": 116,
   "id": "6312ed0f-3850-4069-8d95-bb732d714904",
   "metadata": {
    "tags": []
   },
   "outputs": [],
   "source": [
    "# Function to compute cross correlation, from https://towardsdatascience.com/four-ways-to-quantify-synchrony-between-time-series-data-b99136c4a9c9\n",
    "def crosscorr(datax, datay, lag=0, wrap=False):\n",
    "    \"\"\" Lag-N cross correlation. \n",
    "    Shifted data filled with NaNs \n",
    "    \n",
    "    Parameters\n",
    "    ----------\n",
    "    lag : int, default 0\n",
    "    datax, datay : pandas.Series objects of equal length\n",
    "    Returns\n",
    "    ----------\n",
    "    crosscorr : float\n",
    "    \"\"\"\n",
    "    if wrap==True:\n",
    "        shiftedy = datay.shift(lag)\n",
    "        shiftedy.iloc[:lag] = datay.iloc[-lag:].values\n",
    "        # corr=datax.corr(shiftedy)\n",
    "        corr=list(pearsonr(datax, shiftedy))\n",
    "        return corr\n",
    "    else: \n",
    "        # corr=datax.corr(datay.shift(lag))\n",
    "        corr=list(pearsonr(datax, datay.shift(lag)))\n",
    "        return corr"
   ]
  },
  {
   "cell_type": "code",
   "execution_count": 113,
   "id": "d17fa63e-92a6-46ac-93a4-5c95df7e135f",
   "metadata": {
    "tags": []
   },
   "outputs": [],
   "source": [
    "shiftedy = fl.shift(19)\n",
    "shiftedy.iloc[:19] = fl.iloc[-19:].values"
   ]
  },
  {
   "cell_type": "code",
   "execution_count": 114,
   "id": "2f8753c8-9e66-4365-95f3-0bb24c53eb03",
   "metadata": {
    "tags": []
   },
   "outputs": [
    {
     "data": {
      "text/plain": [
       "1     1.0\n",
       "2     0.0\n",
       "3     0.0\n",
       "4     1.0\n",
       "5     0.0\n",
       "6     1.0\n",
       "7     0.0\n",
       "8     0.0\n",
       "9     1.0\n",
       "10    0.0\n",
       "11    0.0\n",
       "12    1.0\n",
       "13    0.0\n",
       "14    0.0\n",
       "15    0.0\n",
       "16    1.0\n",
       "17    0.0\n",
       "18    0.0\n",
       "19    1.0\n",
       "Name: 9982, dtype: float64"
      ]
     },
     "execution_count": 114,
     "metadata": {},
     "output_type": "execute_result"
    }
   ],
   "source": [
    "shiftedy"
   ]
  },
  {
   "cell_type": "code",
   "execution_count": 119,
   "id": "940abad3-4ac6-4455-bbbd-29086b1aeada",
   "metadata": {
    "tags": []
   },
   "outputs": [
    {
     "data": {
      "text/plain": [
       "1     1.0\n",
       "2     0.0\n",
       "3     0.0\n",
       "4     1.0\n",
       "5     0.0\n",
       "6     1.0\n",
       "7     0.0\n",
       "8     0.0\n",
       "9     1.0\n",
       "10    0.0\n",
       "11    0.0\n",
       "12    1.0\n",
       "13    0.0\n",
       "14    0.0\n",
       "15    0.0\n",
       "16    1.0\n",
       "17    0.0\n",
       "18    0.0\n",
       "19    1.0\n",
       "Name: 9982, dtype: float64"
      ]
     },
     "execution_count": 119,
     "metadata": {},
     "output_type": "execute_result"
    }
   ],
   "source": [
    "fl"
   ]
  },
  {
   "cell_type": "code",
   "execution_count": 124,
   "id": "e0b6cdea-89b7-4ec4-8c8b-e111a952c6bf",
   "metadata": {
    "tags": []
   },
   "outputs": [
    {
     "data": {
      "text/plain": [
       "array([1., 0., 0., 1., 0., 1., 0., 0., 1., 0., 0., 1., 0., 0., 0., 1., 0.,\n",
       "       0., 1.])"
      ]
     },
     "execution_count": 124,
     "metadata": {},
     "output_type": "execute_result"
    }
   ],
   "source": [
    "fl.iloc[-lag:].values"
   ]
  },
  {
   "cell_type": "code",
   "execution_count": 130,
   "id": "eb0fabea-991d-4655-b010-ee76b8966ac6",
   "metadata": {
    "tags": []
   },
   "outputs": [
    {
     "name": "stdout",
     "output_type": "stream",
     "text": [
      "1\n",
      "2\n",
      "3\n",
      "4\n",
      "5\n",
      "6\n",
      "7\n",
      "8\n",
      "9\n",
      "10\n",
      "11\n",
      "12\n",
      "13\n",
      "14\n",
      "15\n",
      "16\n",
      "17\n",
      "18\n"
     ]
    }
   ],
   "source": [
    "for lag in range(1,nyears):\n",
    "    print(lag)\n",
    "    # print(fl.shift(lag))\n",
    "    # print(fl.iloc[-lag:].values)\n",
    "    shiftedy = fl.shift(lag)\n",
    "    shiftedy.iloc[:lag] = fl.iloc[-lag:].values\n",
    "    print(shiftedy)"
   ]
  },
  {
   "cell_type": "code",
   "execution_count": 135,
   "id": "54cb9301-dfe6-4443-ab2a-0abb737af3db",
   "metadata": {
    "tags": []
   },
   "outputs": [],
   "source": [
    "rs = [crosscorr(hw, fl, lag, wrap=True) for lag in range(1,nyears+1)]"
   ]
  },
  {
   "cell_type": "code",
   "execution_count": 136,
   "id": "fd2679b0-482e-4d79-bd88-20d412081adc",
   "metadata": {
    "tags": []
   },
   "outputs": [
    {
     "data": {
      "text/plain": [
       "[[-0.32179795146741913, 0.179102439946704],\n",
       " [-0.05304361837375042, 0.8292479934562442],\n",
       " [0.01414496489966673, 0.9541682777759721],\n",
       " [-0.25460936819400193, 0.2928295646112879],\n",
       " [0.014144964899666787, 0.9541682777759721],\n",
       " [-0.05304361837375046, 0.8292479934562442],\n",
       " [0.08133354817308397, 0.7406404441172996],\n",
       " [-0.25460936819400193, 0.2928295646112879],\n",
       " [0.21571071471991837, 0.37511360555761464],\n",
       " [0.081333548173084, 0.7406404441172996],\n",
       " [0.08133354817308391, 0.7406404441172996],\n",
       " [0.08133354817308398, 0.7406404441172996],\n",
       " [0.14852213144650117, 0.5439682850092471],\n",
       " [0.14852213144650114, 0.5439682850092471],\n",
       " [0.14852213144650114, 0.5439682850092471],\n",
       " [-0.053043618373750365, 0.8292479934562442],\n",
       " [0.14852213144650117, 0.5439682850092471],\n",
       " [-0.12023220164716766, 0.6239317131968393],\n",
       " [-0.05304361837375041, 0.8292479934562442]]"
      ]
     },
     "execution_count": 136,
     "metadata": {},
     "output_type": "execute_result"
    }
   ],
   "source": [
    "rs"
   ]
  },
  {
   "cell_type": "code",
   "execution_count": 138,
   "id": "4dd6d70e-6c92-4f0e-94ee-fa5f75c4857b",
   "metadata": {
    "tags": []
   },
   "outputs": [],
   "source": [
    "# Can either choose the lag with the highest r, or the lowest p value"
   ]
  },
  {
   "cell_type": "code",
   "execution_count": 137,
   "id": "6e107352-8e7b-427b-aa3c-a879a86b3ca1",
   "metadata": {
    "tags": []
   },
   "outputs": [
    {
     "data": {
      "text/plain": [
       "5"
      ]
     },
     "execution_count": 137,
     "metadata": {},
     "output_type": "execute_result"
    }
   ],
   "source": [
    "np.argmax(rs)"
   ]
  },
  {
   "cell_type": "code",
   "execution_count": null,
   "id": "19a8909d-713b-45e6-98c5-c4494776a9d5",
   "metadata": {},
   "outputs": [],
   "source": [
    "offset = np.floor(len(rs)/2)-np.argmax(rs)"
   ]
  },
  {
   "cell_type": "code",
   "execution_count": 103,
   "id": "8a343614-96c9-4a1b-85d5-588e09c3adbf",
   "metadata": {
    "tags": []
   },
   "outputs": [
    {
     "data": {
      "text/plain": [
       "[-0.05304361837375041, 0.8292479934562442]"
      ]
     },
     "execution_count": 103,
     "metadata": {},
     "output_type": "execute_result"
    }
   ],
   "source": [
    "list(pearsonr(hw, fl))"
   ]
  },
  {
   "cell_type": "code",
   "execution_count": 102,
   "id": "dfcf488b-fde1-4e29-a996-196f95b72a9d",
   "metadata": {
    "tags": []
   },
   "outputs": [
    {
     "data": {
      "text/plain": [
       "[nan]"
      ]
     },
     "execution_count": 102,
     "metadata": {},
     "output_type": "execute_result"
    }
   ],
   "source": [
    "rs"
   ]
  },
  {
   "cell_type": "code",
   "execution_count": 97,
   "id": "42dca8fa-9fe9-44a5-bea3-f22bbf254769",
   "metadata": {
    "tags": []
   },
   "outputs": [
    {
     "data": {
      "text/plain": [
       "nan"
      ]
     },
     "execution_count": 97,
     "metadata": {},
     "output_type": "execute_result"
    }
   ],
   "source": [
    "hw.corr(fl)"
   ]
  },
  {
   "cell_type": "code",
   "execution_count": 98,
   "id": "a71ef02f-de28-424b-af28-6ded64f91b6b",
   "metadata": {
    "tags": []
   },
   "outputs": [
    {
     "data": {
      "text/plain": [
       "1     0.0\n",
       "2     3.0\n",
       "3     1.0\n",
       "4     3.0\n",
       "5     0.0\n",
       "6     2.0\n",
       "7     1.0\n",
       "8     1.0\n",
       "9     2.0\n",
       "10    2.0\n",
       "11    3.0\n",
       "12    3.0\n",
       "13    4.0\n",
       "14    5.0\n",
       "15    6.0\n",
       "16    5.0\n",
       "17    4.0\n",
       "18    3.0\n",
       "19    3.0\n",
       "Name: allSites, dtype: float64"
      ]
     },
     "execution_count": 98,
     "metadata": {},
     "output_type": "execute_result"
    }
   ],
   "source": [
    "hw"
   ]
  },
  {
   "cell_type": "code",
   "execution_count": 99,
   "id": "eb2d6862-2be4-490c-9860-e41fd5836151",
   "metadata": {
    "tags": []
   },
   "outputs": [
    {
     "data": {
      "text/plain": [
       "1     1.0\n",
       "2     0.0\n",
       "3     0.0\n",
       "4     1.0\n",
       "5     0.0\n",
       "6     1.0\n",
       "7     0.0\n",
       "8     0.0\n",
       "9     1.0\n",
       "10    0.0\n",
       "11    0.0\n",
       "12    1.0\n",
       "13    0.0\n",
       "14    0.0\n",
       "15    0.0\n",
       "16    1.0\n",
       "17    0.0\n",
       "18    0.0\n",
       "19    1.0\n",
       "Name: 9982, dtype: float64"
      ]
     },
     "execution_count": 99,
     "metadata": {},
     "output_type": "execute_result"
    }
   ],
   "source": [
    "fl"
   ]
  },
  {
   "cell_type": "code",
   "execution_count": 94,
   "id": "26b4db62-482d-4179-be6f-f672534f0e93",
   "metadata": {
    "tags": []
   },
   "outputs": [
    {
     "data": {
      "text/plain": [
       "1     1.0\n",
       "2     0.0\n",
       "3     0.0\n",
       "4     1.0\n",
       "5     0.0\n",
       "6     1.0\n",
       "7     0.0\n",
       "8     0.0\n",
       "9     1.0\n",
       "10    0.0\n",
       "11    0.0\n",
       "12    1.0\n",
       "13    0.0\n",
       "14    0.0\n",
       "15    0.0\n",
       "16    1.0\n",
       "17    0.0\n",
       "18    0.0\n",
       "19    1.0\n",
       "Name: 9982, dtype: float64"
      ]
     },
     "execution_count": 94,
     "metadata": {},
     "output_type": "execute_result"
    }
   ],
   "source": [
    "fl.shift(0)"
   ]
  },
  {
   "cell_type": "code",
   "execution_count": 87,
   "id": "6b56253c-9c63-4de4-8379-3b0cbab98788",
   "metadata": {
    "tags": []
   },
   "outputs": [
    {
     "data": {
      "text/plain": [
       "[-19,\n",
       " -18,\n",
       " -17,\n",
       " -16,\n",
       " -15,\n",
       " -14,\n",
       " -13,\n",
       " -12,\n",
       " -11,\n",
       " -10,\n",
       " -9,\n",
       " -8,\n",
       " -7,\n",
       " -6,\n",
       " -5,\n",
       " -4,\n",
       " -3,\n",
       " -2,\n",
       " -1,\n",
       " 0,\n",
       " 1,\n",
       " 2,\n",
       " 3,\n",
       " 4,\n",
       " 5,\n",
       " 6,\n",
       " 7,\n",
       " 8,\n",
       " 9,\n",
       " 10,\n",
       " 11,\n",
       " 12,\n",
       " 13,\n",
       " 14,\n",
       " 15,\n",
       " 16,\n",
       " 17,\n",
       " 18]"
      ]
     },
     "execution_count": 87,
     "metadata": {},
     "output_type": "execute_result"
    }
   ],
   "source": [
    "list(range(-19,19))"
   ]
  },
  {
   "cell_type": "code",
   "execution_count": 85,
   "id": "d74b968d-a1cd-4aff-97b9-8bf013e0bb9f",
   "metadata": {
    "tags": []
   },
   "outputs": [
    {
     "data": {
      "text/plain": [
       "[nan,\n",
       " nan,\n",
       " nan,\n",
       " nan,\n",
       " nan,\n",
       " nan,\n",
       " nan,\n",
       " nan,\n",
       " nan,\n",
       " nan,\n",
       " nan,\n",
       " nan,\n",
       " nan,\n",
       " nan,\n",
       " nan,\n",
       " nan,\n",
       " nan,\n",
       " nan,\n",
       " nan,\n",
       " nan,\n",
       " nan,\n",
       " nan,\n",
       " nan,\n",
       " nan,\n",
       " nan,\n",
       " nan,\n",
       " nan,\n",
       " nan,\n",
       " nan,\n",
       " nan,\n",
       " nan,\n",
       " nan,\n",
       " nan,\n",
       " nan,\n",
       " nan,\n",
       " nan,\n",
       " nan,\n",
       " nan]"
      ]
     },
     "execution_count": 85,
     "metadata": {},
     "output_type": "execute_result"
    }
   ],
   "source": [
    "rs"
   ]
  },
  {
   "cell_type": "code",
   "execution_count": 82,
   "id": "f73e412c-f477-4ee8-b8c8-aca8ef337800",
   "metadata": {
    "tags": []
   },
   "outputs": [
    {
     "data": {
      "text/plain": [
       "1     1.0\n",
       "2     0.0\n",
       "3     0.0\n",
       "4     1.0\n",
       "5     0.0\n",
       "6     1.0\n",
       "7     0.0\n",
       "8     0.0\n",
       "9     1.0\n",
       "10    0.0\n",
       "11    0.0\n",
       "12    1.0\n",
       "13    0.0\n",
       "14    0.0\n",
       "15    0.0\n",
       "16    1.0\n",
       "17    0.0\n",
       "18    0.0\n",
       "19    1.0\n",
       "Name: 9982, dtype: float64"
      ]
     },
     "execution_count": 82,
     "metadata": {},
     "output_type": "execute_result"
    }
   ],
   "source": [
    "fl"
   ]
  },
  {
   "cell_type": "code",
   "execution_count": 83,
   "id": "e4fb7992-537f-43f5-9306-594986ed2ab4",
   "metadata": {
    "tags": []
   },
   "outputs": [
    {
     "data": {
      "text/plain": [
       "1     0.0\n",
       "2     3.0\n",
       "3     1.0\n",
       "4     3.0\n",
       "5     0.0\n",
       "6     2.0\n",
       "7     1.0\n",
       "8     1.0\n",
       "9     2.0\n",
       "10    2.0\n",
       "11    3.0\n",
       "12    3.0\n",
       "13    4.0\n",
       "14    5.0\n",
       "15    6.0\n",
       "16    5.0\n",
       "17    4.0\n",
       "18    3.0\n",
       "19    3.0\n",
       "Name: allSites, dtype: float64"
      ]
     },
     "execution_count": 83,
     "metadata": {},
     "output_type": "execute_result"
    }
   ],
   "source": [
    "hw"
   ]
  },
  {
   "cell_type": "code",
   "execution_count": null,
   "id": "960bd795-ecaa-46a1-9221-bde4fed46561",
   "metadata": {},
   "outputs": [],
   "source": [
    "d1 = df['S1_Joy']\n",
    "d2 = df['S2_Joy']\n",
    "seconds = 5\n",
    "fps = 30\n",
    "rs = [crosscorr(d1,d2, lag) for lag in range(-int(seconds*fps),int(seconds*fps+1))]\n",
    "offset = np.floor(len(rs)/2)-np.argmax(rs)"
   ]
  }
 ],
 "metadata": {
  "kernelspec": {
   "display_name": "Python 3 (ipykernel)",
   "language": "python",
   "name": "python3"
  },
  "language_info": {
   "codemirror_mode": {
    "name": "ipython",
    "version": 3
   },
   "file_extension": ".py",
   "mimetype": "text/x-python",
   "name": "python",
   "nbconvert_exporter": "python",
   "pygments_lexer": "ipython3",
   "version": "3.8.16"
  }
 },
 "nbformat": 4,
 "nbformat_minor": 5
}
