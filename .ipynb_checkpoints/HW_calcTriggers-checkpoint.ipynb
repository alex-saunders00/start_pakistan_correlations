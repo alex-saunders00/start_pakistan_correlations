{
 "cells": [
  {
   "cell_type": "markdown",
   "id": "ee38695b-3a0c-4660-8cb8-323c70d05c58",
   "metadata": {},
   "source": [
    "# start_pakistan_correlations\n",
    "## HW_calcTriggers.ipynb\n",
    "This script calculates the triggers for the Pakistan heatwave locations using the new 1-in-2 years return period GFS 2-meter temperature thresholds. Data is for 2004-2022 and was provided by Ross Maidment (University of Reading). Data was aggregated from 3 hourly to daily values at each site. Here, we create a record of triggers / activations based on exceedance of the 2mT thresholds."
   ]
  },
  {
   "cell_type": "code",
   "execution_count": 3,
   "id": "25f131c8-a727-4c7c-8b5d-060ea2456df8",
   "metadata": {
    "tags": []
   },
   "outputs": [],
   "source": [
    "from pathlib import Path\n",
    "import os\n",
    "import sys\n",
    "import pandas as pd\n",
    "import numpy as np\n",
    "from datetime import datetime\n",
    "import matplotlib.pyplot as plt\n",
    "from scipy import stats"
   ]
  },
  {
   "cell_type": "code",
   "execution_count": null,
   "id": "7a71d48e-ea0c-488b-abee-4e8bb994a743",
   "metadata": {
    "tags": []
   },
   "outputs": [],
   "source": [
    "# Set the root path\n",
    "rootPath = Path('C:/Users/alexa/Documents/02_work/02_start/02_deliv/05_pk_correlation/hw/data')"
   ]
  },
  {
   "cell_type": "markdown",
   "id": "84b1010e-89f7-431e-ab97-cce8087275e3",
   "metadata": {},
   "source": [
    "## Load the thresholds"
   ]
  },
  {
   "cell_type": "code",
   "execution_count": 15,
   "id": "803bbd5e-6659-407d-a1d3-07eaa761a7cd",
   "metadata": {
    "tags": []
   },
   "outputs": [],
   "source": [
    "thresholds = pd.read_csv(rootPath/'city_thresholds.csv')"
   ]
  },
  {
   "cell_type": "code",
   "execution_count": 16,
   "id": "1d17c1d6-a9c5-4e00-b54c-05852503f532",
   "metadata": {
    "tags": []
   },
   "outputs": [
    {
     "data": {
      "text/html": [
       "<div>\n",
       "<style scoped>\n",
       "    .dataframe tbody tr th:only-of-type {\n",
       "        vertical-align: middle;\n",
       "    }\n",
       "\n",
       "    .dataframe tbody tr th {\n",
       "        vertical-align: top;\n",
       "    }\n",
       "\n",
       "    .dataframe thead th {\n",
       "        text-align: right;\n",
       "    }\n",
       "</style>\n",
       "<table border=\"1\" class=\"dataframe\">\n",
       "  <thead>\n",
       "    <tr style=\"text-align: right;\">\n",
       "      <th></th>\n",
       "      <th>City</th>\n",
       "      <th>Threshold_2mT</th>\n",
       "    </tr>\n",
       "  </thead>\n",
       "  <tbody>\n",
       "    <tr>\n",
       "      <th>0</th>\n",
       "      <td>Lahore</td>\n",
       "      <td>40.50</td>\n",
       "    </tr>\n",
       "    <tr>\n",
       "      <th>1</th>\n",
       "      <td>Multan</td>\n",
       "      <td>42.00</td>\n",
       "    </tr>\n",
       "    <tr>\n",
       "      <th>2</th>\n",
       "      <td>Sibi</td>\n",
       "      <td>35.75</td>\n",
       "    </tr>\n",
       "    <tr>\n",
       "      <th>3</th>\n",
       "      <td>Jacobabad</td>\n",
       "      <td>42.75</td>\n",
       "    </tr>\n",
       "    <tr>\n",
       "      <th>4</th>\n",
       "      <td>Nawabshah</td>\n",
       "      <td>39.75</td>\n",
       "    </tr>\n",
       "    <tr>\n",
       "      <th>5</th>\n",
       "      <td>Karachi_Jinnah_Airport</td>\n",
       "      <td>34.00</td>\n",
       "    </tr>\n",
       "  </tbody>\n",
       "</table>\n",
       "</div>"
      ],
      "text/plain": [
       "                     City  Threshold_2mT\n",
       "0                  Lahore          40.50\n",
       "1                  Multan          42.00\n",
       "2                    Sibi          35.75\n",
       "3               Jacobabad          42.75\n",
       "4               Nawabshah          39.75\n",
       "5  Karachi_Jinnah_Airport          34.00"
      ]
     },
     "execution_count": 16,
     "metadata": {},
     "output_type": "execute_result"
    }
   ],
   "source": [
    "thresholds"
   ]
  },
  {
   "cell_type": "markdown",
   "id": "67f2a3d8-3f53-4b0b-b39d-992c969f1841",
   "metadata": {},
   "source": [
    "## Define the monitoring window\n",
    "April to July inclusive"
   ]
  },
  {
   "cell_type": "code",
   "execution_count": 25,
   "id": "0664f502-60db-4d7e-883e-17b7f8b5652d",
   "metadata": {
    "tags": []
   },
   "outputs": [
    {
     "data": {
      "text/plain": [
       "[4, 5, 6, 7]"
      ]
     },
     "execution_count": 25,
     "metadata": {},
     "output_type": "execute_result"
    }
   ],
   "source": [
    "months = list(range(4,8))\n",
    "months"
   ]
  },
  {
   "cell_type": "markdown",
   "id": "1b7ce3b2-ccb0-4c4b-9214-b3e0cf051161",
   "metadata": {},
   "source": [
    "## Load the daily GFS data"
   ]
  },
  {
   "cell_type": "code",
   "execution_count": 8,
   "id": "262956c3-4fd2-4e48-854e-4206f2955db8",
   "metadata": {
    "tags": []
   },
   "outputs": [],
   "source": [
    "dataPath = rootPath/'city_extracts_2023'\n",
    "sites = [item.stem for item in list(dataPath.iterdir())]"
   ]
  },
  {
   "cell_type": "code",
   "execution_count": 130,
   "id": "52bf9dbe-7005-4c66-82ca-e72280d37daf",
   "metadata": {
    "tags": []
   },
   "outputs": [],
   "source": [
    "# Function to identify triggers\n",
    "def getTriggers(siteDataSub, siteThresh):\n",
    "    excs=[]\n",
    "    triggers=[]\n",
    "    excBefore=0\n",
    "    switch=1\n",
    "    for j, dayTemp in enumerate(siteDataSub.t2m_cel):\n",
    "\n",
    "        # First check if threshold is exceeded on the day\n",
    "        if dayTemp>=siteThresh:\n",
    "            exc=1\n",
    "        else:\n",
    "            exc=0\n",
    "\n",
    "        # If threshold exceeded on two consecutive days, mark a trigger\n",
    "        if exc==1 and excBefore==1 and switch==1:\n",
    "            trig=1 \n",
    "        else:\n",
    "            trig=0\n",
    "\n",
    "        # But, if a trigger has already been registered, and temp has not gone below threshold, do not register any more triggers until temp has dipped below\n",
    "        if exc==1 and excBefore==1:\n",
    "            switch=0\n",
    "        else:\n",
    "            switch=1\n",
    "\n",
    "        # Record the result\n",
    "        excs.append(exc)\n",
    "        triggers.append(trig)\n",
    "\n",
    "        # Remember the day before\n",
    "        excBefore = exc\n",
    "        \n",
    "    return triggers"
   ]
  },
  {
   "cell_type": "code",
   "execution_count": 131,
   "id": "ae78b056-a550-4f26-9e90-fc90cd4de939",
   "metadata": {
    "tags": []
   },
   "outputs": [],
   "source": [
    "# Create folder for saving outputs\n",
    "keepCols=['t2m_cel','trigger']\n",
    "outPath=rootPath/'city_triggers'\n",
    "outPath.mkdir(exist_ok=True)"
   ]
  },
  {
   "cell_type": "code",
   "execution_count": 136,
   "id": "e9f3ec7a-16e2-4e87-a73d-55761acc11ea",
   "metadata": {
    "collapsed": true,
    "jupyter": {
     "outputs_hidden": true
    },
    "tags": []
   },
   "outputs": [
    {
     "name": "stderr",
     "output_type": "stream",
     "text": [
      "C:\\Users\\alexa\\AppData\\Local\\Temp\\ipykernel_26824\\4065807591.py:22: SettingWithCopyWarning: \n",
      "A value is trying to be set on a copy of a slice from a DataFrame.\n",
      "Try using .loc[row_indexer,col_indexer] = value instead\n",
      "\n",
      "See the caveats in the documentation: https://pandas.pydata.org/pandas-docs/stable/user_guide/indexing.html#returning-a-view-versus-a-copy\n",
      "  siteDataSub['trigger']=triggers\n",
      "C:\\Users\\alexa\\AppData\\Local\\Temp\\ipykernel_26824\\4065807591.py:22: SettingWithCopyWarning: \n",
      "A value is trying to be set on a copy of a slice from a DataFrame.\n",
      "Try using .loc[row_indexer,col_indexer] = value instead\n",
      "\n",
      "See the caveats in the documentation: https://pandas.pydata.org/pandas-docs/stable/user_guide/indexing.html#returning-a-view-versus-a-copy\n",
      "  siteDataSub['trigger']=triggers\n",
      "C:\\Users\\alexa\\AppData\\Local\\Temp\\ipykernel_26824\\4065807591.py:22: SettingWithCopyWarning: \n",
      "A value is trying to be set on a copy of a slice from a DataFrame.\n",
      "Try using .loc[row_indexer,col_indexer] = value instead\n",
      "\n",
      "See the caveats in the documentation: https://pandas.pydata.org/pandas-docs/stable/user_guide/indexing.html#returning-a-view-versus-a-copy\n",
      "  siteDataSub['trigger']=triggers\n",
      "C:\\Users\\alexa\\AppData\\Local\\Temp\\ipykernel_26824\\4065807591.py:22: SettingWithCopyWarning: \n",
      "A value is trying to be set on a copy of a slice from a DataFrame.\n",
      "Try using .loc[row_indexer,col_indexer] = value instead\n",
      "\n",
      "See the caveats in the documentation: https://pandas.pydata.org/pandas-docs/stable/user_guide/indexing.html#returning-a-view-versus-a-copy\n",
      "  siteDataSub['trigger']=triggers\n",
      "C:\\Users\\alexa\\AppData\\Local\\Temp\\ipykernel_26824\\4065807591.py:22: SettingWithCopyWarning: \n",
      "A value is trying to be set on a copy of a slice from a DataFrame.\n",
      "Try using .loc[row_indexer,col_indexer] = value instead\n",
      "\n",
      "See the caveats in the documentation: https://pandas.pydata.org/pandas-docs/stable/user_guide/indexing.html#returning-a-view-versus-a-copy\n",
      "  siteDataSub['trigger']=triggers\n",
      "C:\\Users\\alexa\\AppData\\Local\\Temp\\ipykernel_26824\\4065807591.py:22: SettingWithCopyWarning: \n",
      "A value is trying to be set on a copy of a slice from a DataFrame.\n",
      "Try using .loc[row_indexer,col_indexer] = value instead\n",
      "\n",
      "See the caveats in the documentation: https://pandas.pydata.org/pandas-docs/stable/user_guide/indexing.html#returning-a-view-versus-a-copy\n",
      "  siteDataSub['trigger']=triggers\n"
     ]
    }
   ],
   "source": [
    "# Loop through sites and compute triggers\n",
    "\n",
    "# Record triggers for all sites in df\n",
    "siteTriggers = pd.DataFrame(data=[], index=['site','threshold','time','t2m_cel','trigger']).T\n",
    "\n",
    "for i, site in enumerate(sites):\n",
    "    \n",
    "    # Read the daily data\n",
    "    siteFile = dataPath/'{0}/gfsanl_daily_{1}_allyears.csv'.format(site, site)\n",
    "    siteData = pd.read_csv(siteFile)\n",
    "    \n",
    "    # Filter for monitoring months\n",
    "    siteData.index = pd.to_datetime(siteData.time)\n",
    "    siteData['month'] = [item.month for item in siteData.index]\n",
    "    siteDataSub = siteData[siteData.month.isin(months)]\n",
    "    \n",
    "    # Get the threshold\n",
    "    siteThresh = thresholds.Threshold_2mT[thresholds.City==site].to_list()[0]\n",
    "    \n",
    "    # Compute the number of triggers - must be exceeded on two consecutive days\n",
    "    triggers = getTriggers(siteDataSub, siteThresh)\n",
    "    siteDataSub['trigger']=triggers\n",
    "    siteDataSub=siteDataSub[keepCols]\n",
    "    \n",
    "    # Write out as csv for each site\n",
    "    siteDataSub.to_csv(outPath/(site+'.csv'), index=True)\n",
    "    \n",
    "    # Record the trigger days\n",
    "    triggerData=siteDataSub[siteDataSub.trigger==1].reset_index()\n",
    "    triggerData['site']=site\n",
    "    triggerData['threshold']=siteThresh\n",
    "    siteTriggers = pd.concat(objs=[siteTriggers, triggerData])"
   ]
  },
  {
   "cell_type": "code",
   "execution_count": 139,
   "id": "342348b5-2a90-4bcc-bb39-eeccdcb8b708",
   "metadata": {
    "tags": []
   },
   "outputs": [],
   "source": [
    "siteTriggers['month'] = [item.month for item in siteTriggers.time]\n",
    "siteTriggers['year'] = [item.year for item in siteTriggers.time]"
   ]
  },
  {
   "cell_type": "code",
   "execution_count": 141,
   "id": "c8f182f7-b828-4052-82a7-f6a3938b02ea",
   "metadata": {
    "tags": []
   },
   "outputs": [],
   "source": [
    "# Save summary as csv file\n",
    "siteTriggers.to_csv(outPath/('triggersSummary.csv'), index=False)"
   ]
  },
  {
   "cell_type": "markdown",
   "id": "e0c25377-ec51-43b8-be24-a8509d58f196",
   "metadata": {
    "tags": []
   },
   "source": [
    "### Modify to alternative format with all years\n"
   ]
  },
  {
   "cell_type": "code",
   "execution_count": 179,
   "id": "429678ef-b8b2-4697-9967-01bd08f07de5",
   "metadata": {
    "tags": []
   },
   "outputs": [],
   "source": [
    "# Create df of all years\n",
    "allYears = pd.DataFrame(data=[list(range(2004,2023))], index=['year']).T\n",
    "allYears.index = allYears.year\n",
    "allYears = allYears.drop('year', axis=1)\n",
    "\n",
    "# Loop through sites and extract trigger years and add to summary dataframe\n",
    "for i, site in enumerate(sites):\n",
    "    siteYears = pd.DataFrame(data=[siteTriggers[siteTriggers.site==site].groupby(by=['year']).count().trigger], index=[site]).T\n",
    "    \n",
    "    if i==0:\n",
    "        triggerYears = allYears.merge(siteYears, on='year', how='outer')\n",
    "    else:\n",
    "        triggerYears = triggerYears.merge(siteYears, on='year', how='outer')\n",
    "    \n",
    "triggerYears = triggerYears.fillna(0)\n",
    "triggerYears.to_csv(outPath/('triggerYears.csv'), index=True)"
   ]
  },
  {
   "cell_type": "code",
   "execution_count": 180,
   "id": "b3e56bf0-1ef8-4e7e-9c9f-41e79382a48a",
   "metadata": {
    "tags": []
   },
   "outputs": [
    {
     "data": {
      "text/html": [
       "<div>\n",
       "<style scoped>\n",
       "    .dataframe tbody tr th:only-of-type {\n",
       "        vertical-align: middle;\n",
       "    }\n",
       "\n",
       "    .dataframe tbody tr th {\n",
       "        vertical-align: top;\n",
       "    }\n",
       "\n",
       "    .dataframe thead th {\n",
       "        text-align: right;\n",
       "    }\n",
       "</style>\n",
       "<table border=\"1\" class=\"dataframe\">\n",
       "  <thead>\n",
       "    <tr style=\"text-align: right;\">\n",
       "      <th></th>\n",
       "      <th>Jacobabad</th>\n",
       "      <th>Karachi_Jinnah_Airport</th>\n",
       "      <th>Lahore</th>\n",
       "      <th>Multan</th>\n",
       "      <th>Nawabshah</th>\n",
       "      <th>Sibi</th>\n",
       "    </tr>\n",
       "    <tr>\n",
       "      <th>year</th>\n",
       "      <th></th>\n",
       "      <th></th>\n",
       "      <th></th>\n",
       "      <th></th>\n",
       "      <th></th>\n",
       "      <th></th>\n",
       "    </tr>\n",
       "  </thead>\n",
       "  <tbody>\n",
       "    <tr>\n",
       "      <th>2004</th>\n",
       "      <td>0.0</td>\n",
       "      <td>0.0</td>\n",
       "      <td>0.0</td>\n",
       "      <td>0.0</td>\n",
       "      <td>0.0</td>\n",
       "      <td>0.0</td>\n",
       "    </tr>\n",
       "    <tr>\n",
       "      <th>2005</th>\n",
       "      <td>0.0</td>\n",
       "      <td>1.0</td>\n",
       "      <td>1.0</td>\n",
       "      <td>1.0</td>\n",
       "      <td>0.0</td>\n",
       "      <td>0.0</td>\n",
       "    </tr>\n",
       "    <tr>\n",
       "      <th>2006</th>\n",
       "      <td>1.0</td>\n",
       "      <td>0.0</td>\n",
       "      <td>0.0</td>\n",
       "      <td>0.0</td>\n",
       "      <td>0.0</td>\n",
       "      <td>0.0</td>\n",
       "    </tr>\n",
       "    <tr>\n",
       "      <th>2007</th>\n",
       "      <td>0.0</td>\n",
       "      <td>1.0</td>\n",
       "      <td>1.0</td>\n",
       "      <td>1.0</td>\n",
       "      <td>0.0</td>\n",
       "      <td>0.0</td>\n",
       "    </tr>\n",
       "    <tr>\n",
       "      <th>2008</th>\n",
       "      <td>0.0</td>\n",
       "      <td>0.0</td>\n",
       "      <td>0.0</td>\n",
       "      <td>0.0</td>\n",
       "      <td>0.0</td>\n",
       "      <td>0.0</td>\n",
       "    </tr>\n",
       "    <tr>\n",
       "      <th>2009</th>\n",
       "      <td>1.0</td>\n",
       "      <td>0.0</td>\n",
       "      <td>1.0</td>\n",
       "      <td>0.0</td>\n",
       "      <td>0.0</td>\n",
       "      <td>0.0</td>\n",
       "    </tr>\n",
       "    <tr>\n",
       "      <th>2010</th>\n",
       "      <td>0.0</td>\n",
       "      <td>0.0</td>\n",
       "      <td>0.0</td>\n",
       "      <td>2.0</td>\n",
       "      <td>0.0</td>\n",
       "      <td>0.0</td>\n",
       "    </tr>\n",
       "    <tr>\n",
       "      <th>2011</th>\n",
       "      <td>0.0</td>\n",
       "      <td>0.0</td>\n",
       "      <td>0.0</td>\n",
       "      <td>1.0</td>\n",
       "      <td>0.0</td>\n",
       "      <td>0.0</td>\n",
       "    </tr>\n",
       "    <tr>\n",
       "      <th>2012</th>\n",
       "      <td>0.0</td>\n",
       "      <td>0.0</td>\n",
       "      <td>1.0</td>\n",
       "      <td>1.0</td>\n",
       "      <td>0.0</td>\n",
       "      <td>0.0</td>\n",
       "    </tr>\n",
       "    <tr>\n",
       "      <th>2013</th>\n",
       "      <td>0.0</td>\n",
       "      <td>1.0</td>\n",
       "      <td>2.0</td>\n",
       "      <td>0.0</td>\n",
       "      <td>0.0</td>\n",
       "      <td>0.0</td>\n",
       "    </tr>\n",
       "    <tr>\n",
       "      <th>2014</th>\n",
       "      <td>1.0</td>\n",
       "      <td>0.0</td>\n",
       "      <td>2.0</td>\n",
       "      <td>0.0</td>\n",
       "      <td>1.0</td>\n",
       "      <td>0.0</td>\n",
       "    </tr>\n",
       "    <tr>\n",
       "      <th>2015</th>\n",
       "      <td>1.0</td>\n",
       "      <td>2.0</td>\n",
       "      <td>0.0</td>\n",
       "      <td>0.0</td>\n",
       "      <td>0.0</td>\n",
       "      <td>1.0</td>\n",
       "    </tr>\n",
       "    <tr>\n",
       "      <th>2016</th>\n",
       "      <td>4.0</td>\n",
       "      <td>2.0</td>\n",
       "      <td>0.0</td>\n",
       "      <td>0.0</td>\n",
       "      <td>2.0</td>\n",
       "      <td>2.0</td>\n",
       "    </tr>\n",
       "    <tr>\n",
       "      <th>2017</th>\n",
       "      <td>1.0</td>\n",
       "      <td>1.0</td>\n",
       "      <td>0.0</td>\n",
       "      <td>1.0</td>\n",
       "      <td>1.0</td>\n",
       "      <td>2.0</td>\n",
       "    </tr>\n",
       "    <tr>\n",
       "      <th>2018</th>\n",
       "      <td>3.0</td>\n",
       "      <td>2.0</td>\n",
       "      <td>1.0</td>\n",
       "      <td>3.0</td>\n",
       "      <td>2.0</td>\n",
       "      <td>2.0</td>\n",
       "    </tr>\n",
       "    <tr>\n",
       "      <th>2019</th>\n",
       "      <td>2.0</td>\n",
       "      <td>0.0</td>\n",
       "      <td>2.0</td>\n",
       "      <td>2.0</td>\n",
       "      <td>2.0</td>\n",
       "      <td>3.0</td>\n",
       "    </tr>\n",
       "    <tr>\n",
       "      <th>2020</th>\n",
       "      <td>1.0</td>\n",
       "      <td>1.0</td>\n",
       "      <td>0.0</td>\n",
       "      <td>2.0</td>\n",
       "      <td>0.0</td>\n",
       "      <td>2.0</td>\n",
       "    </tr>\n",
       "    <tr>\n",
       "      <th>2021</th>\n",
       "      <td>0.0</td>\n",
       "      <td>1.0</td>\n",
       "      <td>2.0</td>\n",
       "      <td>0.0</td>\n",
       "      <td>0.0</td>\n",
       "      <td>4.0</td>\n",
       "    </tr>\n",
       "    <tr>\n",
       "      <th>2022</th>\n",
       "      <td>0.0</td>\n",
       "      <td>0.0</td>\n",
       "      <td>0.0</td>\n",
       "      <td>1.0</td>\n",
       "      <td>1.0</td>\n",
       "      <td>1.0</td>\n",
       "    </tr>\n",
       "  </tbody>\n",
       "</table>\n",
       "</div>"
      ],
      "text/plain": [
       "      Jacobabad  Karachi_Jinnah_Airport  Lahore  Multan  Nawabshah  Sibi\n",
       "year                                                                    \n",
       "2004        0.0                     0.0     0.0     0.0        0.0   0.0\n",
       "2005        0.0                     1.0     1.0     1.0        0.0   0.0\n",
       "2006        1.0                     0.0     0.0     0.0        0.0   0.0\n",
       "2007        0.0                     1.0     1.0     1.0        0.0   0.0\n",
       "2008        0.0                     0.0     0.0     0.0        0.0   0.0\n",
       "2009        1.0                     0.0     1.0     0.0        0.0   0.0\n",
       "2010        0.0                     0.0     0.0     2.0        0.0   0.0\n",
       "2011        0.0                     0.0     0.0     1.0        0.0   0.0\n",
       "2012        0.0                     0.0     1.0     1.0        0.0   0.0\n",
       "2013        0.0                     1.0     2.0     0.0        0.0   0.0\n",
       "2014        1.0                     0.0     2.0     0.0        1.0   0.0\n",
       "2015        1.0                     2.0     0.0     0.0        0.0   1.0\n",
       "2016        4.0                     2.0     0.0     0.0        2.0   2.0\n",
       "2017        1.0                     1.0     0.0     1.0        1.0   2.0\n",
       "2018        3.0                     2.0     1.0     3.0        2.0   2.0\n",
       "2019        2.0                     0.0     2.0     2.0        2.0   3.0\n",
       "2020        1.0                     1.0     0.0     2.0        0.0   2.0\n",
       "2021        0.0                     1.0     2.0     0.0        0.0   4.0\n",
       "2022        0.0                     0.0     0.0     1.0        1.0   1.0"
      ]
     },
     "execution_count": 180,
     "metadata": {},
     "output_type": "execute_result"
    }
   ],
   "source": [
    "triggerYears"
   ]
  }
 ],
 "metadata": {
  "kernelspec": {
   "display_name": "Python 3 (ipykernel)",
   "language": "python",
   "name": "python3"
  },
  "language_info": {
   "codemirror_mode": {
    "name": "ipython",
    "version": 3
   },
   "file_extension": ".py",
   "mimetype": "text/x-python",
   "name": "python",
   "nbconvert_exporter": "python",
   "pygments_lexer": "ipython3",
   "version": "3.8.16"
  }
 },
 "nbformat": 4,
 "nbformat_minor": 5
}
