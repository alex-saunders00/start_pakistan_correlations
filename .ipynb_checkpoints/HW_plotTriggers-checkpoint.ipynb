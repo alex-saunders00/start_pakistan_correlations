{
 "cells": [
  {
   "cell_type": "markdown",
   "id": "ee38695b-3a0c-4660-8cb8-323c70d05c58",
   "metadata": {},
   "source": [
    "# start_pakistan_correlations\n",
    "## HW_plotTriggers.ipynb\n",
    "This script plots the triggers for the Pakistan heatwave locations by year for 2004-2022. This uses data of a record of triggers / activations based on exceedance of the 2mT thresholds, which was calculated with the code 'HW_calcTriggers.ipynb'."
   ]
  },
  {
   "cell_type": "code",
   "execution_count": 1,
   "id": "25f131c8-a727-4c7c-8b5d-060ea2456df8",
   "metadata": {
    "tags": []
   },
   "outputs": [],
   "source": [
    "from pathlib import Path\n",
    "import os\n",
    "import sys\n",
    "import pandas as pd\n",
    "import numpy as np\n",
    "from datetime import datetime\n",
    "import matplotlib.pyplot as plt\n",
    "from scipy import stats"
   ]
  },
  {
   "cell_type": "code",
   "execution_count": 2,
   "id": "7a71d48e-ea0c-488b-abee-4e8bb994a743",
   "metadata": {
    "tags": []
   },
   "outputs": [],
   "source": [
    "# Set the root path\n",
    "rootPath = Path('C:/Users/alexa/Documents/02_work/02_start/02_deliv/05_pk_correlation/hw/data')"
   ]
  },
  {
   "cell_type": "markdown",
   "id": "84b1010e-89f7-431e-ab97-cce8087275e3",
   "metadata": {
    "tags": []
   },
   "source": [
    "## Load the triggers by year data"
   ]
  },
  {
   "cell_type": "code",
   "execution_count": 60,
   "id": "630cf5a6-0011-4dc9-bd4f-4218425115ab",
   "metadata": {
    "tags": []
   },
   "outputs": [],
   "source": [
    "triggerYears = pd.read_csv(rootPath/'city_triggers/triggerYears.csv')"
   ]
  },
  {
   "cell_type": "code",
   "execution_count": 61,
   "id": "fc6fbae8-e0b9-4a74-a0ab-623d44b7089d",
   "metadata": {
    "tags": []
   },
   "outputs": [],
   "source": [
    "triggerYears.index = triggerYears.year\n",
    "triggerYears = triggerYears.drop('year',axis=1)"
   ]
  },
  {
   "cell_type": "code",
   "execution_count": 62,
   "id": "60478441-a577-4f81-8d2b-551a33b92e0d",
   "metadata": {},
   "outputs": [
    {
     "data": {
      "text/html": [
       "<div>\n",
       "<style scoped>\n",
       "    .dataframe tbody tr th:only-of-type {\n",
       "        vertical-align: middle;\n",
       "    }\n",
       "\n",
       "    .dataframe tbody tr th {\n",
       "        vertical-align: top;\n",
       "    }\n",
       "\n",
       "    .dataframe thead th {\n",
       "        text-align: right;\n",
       "    }\n",
       "</style>\n",
       "<table border=\"1\" class=\"dataframe\">\n",
       "  <thead>\n",
       "    <tr style=\"text-align: right;\">\n",
       "      <th></th>\n",
       "      <th>Jacobabad</th>\n",
       "      <th>Karachi_Jinnah_Airport</th>\n",
       "      <th>Lahore</th>\n",
       "      <th>Multan</th>\n",
       "      <th>Nawabshah</th>\n",
       "      <th>Sibi</th>\n",
       "    </tr>\n",
       "    <tr>\n",
       "      <th>year</th>\n",
       "      <th></th>\n",
       "      <th></th>\n",
       "      <th></th>\n",
       "      <th></th>\n",
       "      <th></th>\n",
       "      <th></th>\n",
       "    </tr>\n",
       "  </thead>\n",
       "  <tbody>\n",
       "    <tr>\n",
       "      <th>2004</th>\n",
       "      <td>0.0</td>\n",
       "      <td>0.0</td>\n",
       "      <td>0.0</td>\n",
       "      <td>0.0</td>\n",
       "      <td>0.0</td>\n",
       "      <td>0.0</td>\n",
       "    </tr>\n",
       "    <tr>\n",
       "      <th>2005</th>\n",
       "      <td>0.0</td>\n",
       "      <td>1.0</td>\n",
       "      <td>1.0</td>\n",
       "      <td>1.0</td>\n",
       "      <td>0.0</td>\n",
       "      <td>0.0</td>\n",
       "    </tr>\n",
       "    <tr>\n",
       "      <th>2006</th>\n",
       "      <td>1.0</td>\n",
       "      <td>0.0</td>\n",
       "      <td>0.0</td>\n",
       "      <td>0.0</td>\n",
       "      <td>0.0</td>\n",
       "      <td>0.0</td>\n",
       "    </tr>\n",
       "    <tr>\n",
       "      <th>2007</th>\n",
       "      <td>0.0</td>\n",
       "      <td>1.0</td>\n",
       "      <td>1.0</td>\n",
       "      <td>1.0</td>\n",
       "      <td>0.0</td>\n",
       "      <td>0.0</td>\n",
       "    </tr>\n",
       "    <tr>\n",
       "      <th>2008</th>\n",
       "      <td>0.0</td>\n",
       "      <td>0.0</td>\n",
       "      <td>0.0</td>\n",
       "      <td>0.0</td>\n",
       "      <td>0.0</td>\n",
       "      <td>0.0</td>\n",
       "    </tr>\n",
       "    <tr>\n",
       "      <th>2009</th>\n",
       "      <td>1.0</td>\n",
       "      <td>0.0</td>\n",
       "      <td>1.0</td>\n",
       "      <td>0.0</td>\n",
       "      <td>0.0</td>\n",
       "      <td>0.0</td>\n",
       "    </tr>\n",
       "    <tr>\n",
       "      <th>2010</th>\n",
       "      <td>0.0</td>\n",
       "      <td>0.0</td>\n",
       "      <td>0.0</td>\n",
       "      <td>2.0</td>\n",
       "      <td>0.0</td>\n",
       "      <td>0.0</td>\n",
       "    </tr>\n",
       "    <tr>\n",
       "      <th>2011</th>\n",
       "      <td>0.0</td>\n",
       "      <td>0.0</td>\n",
       "      <td>0.0</td>\n",
       "      <td>1.0</td>\n",
       "      <td>0.0</td>\n",
       "      <td>0.0</td>\n",
       "    </tr>\n",
       "    <tr>\n",
       "      <th>2012</th>\n",
       "      <td>0.0</td>\n",
       "      <td>0.0</td>\n",
       "      <td>1.0</td>\n",
       "      <td>1.0</td>\n",
       "      <td>0.0</td>\n",
       "      <td>0.0</td>\n",
       "    </tr>\n",
       "    <tr>\n",
       "      <th>2013</th>\n",
       "      <td>0.0</td>\n",
       "      <td>1.0</td>\n",
       "      <td>2.0</td>\n",
       "      <td>0.0</td>\n",
       "      <td>0.0</td>\n",
       "      <td>0.0</td>\n",
       "    </tr>\n",
       "    <tr>\n",
       "      <th>2014</th>\n",
       "      <td>1.0</td>\n",
       "      <td>0.0</td>\n",
       "      <td>2.0</td>\n",
       "      <td>0.0</td>\n",
       "      <td>1.0</td>\n",
       "      <td>0.0</td>\n",
       "    </tr>\n",
       "    <tr>\n",
       "      <th>2015</th>\n",
       "      <td>1.0</td>\n",
       "      <td>2.0</td>\n",
       "      <td>0.0</td>\n",
       "      <td>0.0</td>\n",
       "      <td>0.0</td>\n",
       "      <td>1.0</td>\n",
       "    </tr>\n",
       "    <tr>\n",
       "      <th>2016</th>\n",
       "      <td>4.0</td>\n",
       "      <td>2.0</td>\n",
       "      <td>0.0</td>\n",
       "      <td>0.0</td>\n",
       "      <td>2.0</td>\n",
       "      <td>2.0</td>\n",
       "    </tr>\n",
       "    <tr>\n",
       "      <th>2017</th>\n",
       "      <td>1.0</td>\n",
       "      <td>1.0</td>\n",
       "      <td>0.0</td>\n",
       "      <td>1.0</td>\n",
       "      <td>1.0</td>\n",
       "      <td>2.0</td>\n",
       "    </tr>\n",
       "    <tr>\n",
       "      <th>2018</th>\n",
       "      <td>3.0</td>\n",
       "      <td>2.0</td>\n",
       "      <td>1.0</td>\n",
       "      <td>3.0</td>\n",
       "      <td>2.0</td>\n",
       "      <td>2.0</td>\n",
       "    </tr>\n",
       "    <tr>\n",
       "      <th>2019</th>\n",
       "      <td>2.0</td>\n",
       "      <td>0.0</td>\n",
       "      <td>2.0</td>\n",
       "      <td>2.0</td>\n",
       "      <td>2.0</td>\n",
       "      <td>3.0</td>\n",
       "    </tr>\n",
       "    <tr>\n",
       "      <th>2020</th>\n",
       "      <td>1.0</td>\n",
       "      <td>1.0</td>\n",
       "      <td>0.0</td>\n",
       "      <td>2.0</td>\n",
       "      <td>0.0</td>\n",
       "      <td>2.0</td>\n",
       "    </tr>\n",
       "    <tr>\n",
       "      <th>2021</th>\n",
       "      <td>0.0</td>\n",
       "      <td>1.0</td>\n",
       "      <td>2.0</td>\n",
       "      <td>0.0</td>\n",
       "      <td>0.0</td>\n",
       "      <td>4.0</td>\n",
       "    </tr>\n",
       "    <tr>\n",
       "      <th>2022</th>\n",
       "      <td>0.0</td>\n",
       "      <td>0.0</td>\n",
       "      <td>0.0</td>\n",
       "      <td>1.0</td>\n",
       "      <td>1.0</td>\n",
       "      <td>1.0</td>\n",
       "    </tr>\n",
       "  </tbody>\n",
       "</table>\n",
       "</div>"
      ],
      "text/plain": [
       "      Jacobabad  Karachi_Jinnah_Airport  Lahore  Multan  Nawabshah  Sibi\n",
       "year                                                                    \n",
       "2004        0.0                     0.0     0.0     0.0        0.0   0.0\n",
       "2005        0.0                     1.0     1.0     1.0        0.0   0.0\n",
       "2006        1.0                     0.0     0.0     0.0        0.0   0.0\n",
       "2007        0.0                     1.0     1.0     1.0        0.0   0.0\n",
       "2008        0.0                     0.0     0.0     0.0        0.0   0.0\n",
       "2009        1.0                     0.0     1.0     0.0        0.0   0.0\n",
       "2010        0.0                     0.0     0.0     2.0        0.0   0.0\n",
       "2011        0.0                     0.0     0.0     1.0        0.0   0.0\n",
       "2012        0.0                     0.0     1.0     1.0        0.0   0.0\n",
       "2013        0.0                     1.0     2.0     0.0        0.0   0.0\n",
       "2014        1.0                     0.0     2.0     0.0        1.0   0.0\n",
       "2015        1.0                     2.0     0.0     0.0        0.0   1.0\n",
       "2016        4.0                     2.0     0.0     0.0        2.0   2.0\n",
       "2017        1.0                     1.0     0.0     1.0        1.0   2.0\n",
       "2018        3.0                     2.0     1.0     3.0        2.0   2.0\n",
       "2019        2.0                     0.0     2.0     2.0        2.0   3.0\n",
       "2020        1.0                     1.0     0.0     2.0        0.0   2.0\n",
       "2021        0.0                     1.0     2.0     0.0        0.0   4.0\n",
       "2022        0.0                     0.0     0.0     1.0        1.0   1.0"
      ]
     },
     "execution_count": 62,
     "metadata": {},
     "output_type": "execute_result"
    }
   ],
   "source": [
    "triggerYears"
   ]
  },
  {
   "cell_type": "markdown",
   "id": "6031538e-f0bf-490f-9b56-45ab468fce91",
   "metadata": {},
   "source": [
    "## Plot as stacked bar chart"
   ]
  },
  {
   "cell_type": "code",
   "execution_count": 63,
   "id": "6aa5a691-2986-40e1-943f-b176be9b8cd6",
   "metadata": {
    "tags": []
   },
   "outputs": [],
   "source": [
    "sites=triggerYears.columns.to_list()"
   ]
  },
  {
   "cell_type": "code",
   "execution_count": 64,
   "id": "64e4a0e9-d683-4786-a431-f4580e1af4eb",
   "metadata": {
    "tags": []
   },
   "outputs": [],
   "source": [
    "colors=[\n",
    "(68/255,84/255,106/255),    \n",
    "(254/255,106/255,70/255), \n",
    "(133/255,239/255,205/255),\n",
    "(255/255,192/255,0/255),    \n",
    "(165/255,165/255,165/255), \n",
    "(255/255,193/255,179/255), \n",
    "(184/255,193/255,218/255),    \n",
    "(24/255,186/255,134/255)\n",
    "]"
   ]
  },
  {
   "cell_type": "code",
   "execution_count": 65,
   "id": "5214b615-2e3c-45a1-9f4d-5b7240e4654a",
   "metadata": {
    "tags": []
   },
   "outputs": [
    {
     "data": {
      "image/png": "[encoded data removed]",
      "text/plain": [
       "<Figure size 1000x300 with 1 Axes>"
      ]
     },
     "metadata": {},
     "output_type": "display_data"
    }
   ],
   "source": [
    "fig, ax = plt.subplots(figsize=(10,3), constrained_layout=True)\n",
    "\n",
    "# Variable for plotting\n",
    "width=0.7\n",
    "\n",
    "# Loop through sites\n",
    "barPlots=[]\n",
    "barDatas=[]\n",
    "for i, site in enumerate(sites):\n",
    "    barData = triggerYears[site]\n",
    "    if i==0:\n",
    "        barPlot = ax.bar(triggerYears.index, barData, width, color=colors[i])\n",
    "        bottomData = barData\n",
    "    else:\n",
    "        barPlot = ax.bar(triggerYears.index, barData, width, bottom=bottomData, color=colors[i])\n",
    "        bottomData = bottomData+barData\n",
    "    barPlots.append(barPlot)\n",
    "    barDatas.append(barData)\n",
    "    \n",
    "ax.set_ylabel('Number of activations', fontsize=16)\n",
    "ax.set_xticks(triggerYears.index, triggerYears.index, rotation=45)\n",
    "ax.set_yticks(np.arange(0, 15, 2))\n",
    "ax.legend((barPlot[0] for barPlot in barPlots), (sites), fontsize=12)\n",
    "ax.tick_params(axis='both', labelsize=14)\n",
    "ax.set_xlim(2003.5,2022.5)\n",
    "\n",
    "plt.show()"
   ]
  },
  {
   "cell_type": "markdown",
   "id": "0bf73aa7-0cfd-4a4d-9f54-56e0be9ed856",
   "metadata": {},
   "source": [
    "## Plot as stacked bar chart, this time limiting each site to max of one activation per year"
   ]
  },
  {
   "cell_type": "code",
   "execution_count": 66,
   "id": "7600c988-b8b9-40d3-930d-792c4b62b16b",
   "metadata": {
    "tags": []
   },
   "outputs": [
    {
     "data": {
      "image/png": "[encoded data removed]",
      "text/plain": [
       "<Figure size 1000x300 with 1 Axes>"
      ]
     },
     "metadata": {},
     "output_type": "display_data"
    }
   ],
   "source": [
    "fig, ax = plt.subplots(figsize=(10,3), constrained_layout=True)\n",
    "\n",
    "# Variable for plotting\n",
    "width=0.7\n",
    "\n",
    "# Loop through sites\n",
    "barPlots=[]\n",
    "barDatas=[]\n",
    "for i, site in enumerate(sites):\n",
    "    barData = triggerYears[site]\n",
    "    # Set anything above 1 to 1\n",
    "    barData[barData>1]=1\n",
    "    if i==0:\n",
    "        barPlot = ax.bar(triggerYears.index, barData, width, color=colors[i])\n",
    "        bottomData = barData\n",
    "    else:\n",
    "        barPlot = ax.bar(triggerYears.index, barData, width, bottom=bottomData, color=colors[i])\n",
    "        bottomData = bottomData+barData\n",
    "    barPlots.append(barPlot)\n",
    "    barDatas.append(barData)\n",
    "    \n",
    "ax.set_ylabel('No of locations activated', fontsize=14)\n",
    "ax.set_xticks(triggerYears.index, triggerYears.index, rotation=45)\n",
    "ax.set_yticks(np.arange(0, 9, 2))\n",
    "ax.legend((barPlot[0] for barPlot in barPlots), (sites), fontsize=11, ncol=len(sites), loc='upper center')\n",
    "ax.tick_params(axis='both', labelsize=14)\n",
    "ax.set_xlim(2003.5,2022.5)\n",
    "    \n",
    "plt.show()"
   ]
  }
 ],
 "metadata": {
  "kernelspec": {
   "display_name": "Python 3 (ipykernel)",
   "language": "python",
   "name": "python3"
  },
  "language_info": {
   "codemirror_mode": {
    "name": "ipython",
    "version": 3
   },
   "file_extension": ".py",
   "mimetype": "text/x-python",
   "name": "python",
   "nbconvert_exporter": "python",
   "pygments_lexer": "ipython3",
   "version": "3.8.16"
  }
 },
 "nbformat": 4,
 "nbformat_minor": 5
}
