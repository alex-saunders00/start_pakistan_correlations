{
 "cells": [
  {
   "cell_type": "markdown",
   "id": "ee38695b-3a0c-4660-8cb8-323c70d05c58",
   "metadata": {},
   "source": [
    "# start_pakistan_correlations\n",
    "## HW_plotTriggers.ipynb\n",
    "This script plots the triggers for the Pakistan heatwave locations by year for 2004-2022. This uses data of a record of triggers / activations based on exceedance of the 2mT thresholds, which was calculated with the code 'HW_calcTriggers.ipynb'."
   ]
  },
  {
   "cell_type": "code",
   "execution_count": 1,
   "id": "25f131c8-a727-4c7c-8b5d-060ea2456df8",
   "metadata": {
    "tags": []
   },
   "outputs": [],
   "source": [
    "from pathlib import Path\n",
    "import os\n",
    "import sys\n",
    "import pandas as pd\n",
    "import numpy as np\n",
    "from datetime import datetime\n",
    "import matplotlib.pyplot as plt\n",
    "from scipy import stats"
   ]
  },
  {
   "cell_type": "code",
   "execution_count": 2,
   "id": "7a71d48e-ea0c-488b-abee-4e8bb994a743",
   "metadata": {
    "tags": []
   },
   "outputs": [],
   "source": [
    "# Set the root path\n",
    "rootPath = Path('C:/Users/alexa/Documents/02_work/02_start/02_deliv/05_pk_correlation/hw/data')"
   ]
  },
  {
   "cell_type": "markdown",
   "id": "84b1010e-89f7-431e-ab97-cce8087275e3",
   "metadata": {
    "tags": []
   },
   "source": [
    "## Load the triggers by year data"
   ]
  },
  {
   "cell_type": "code",
   "execution_count": 4,
   "id": "630cf5a6-0011-4dc9-bd4f-4218425115ab",
   "metadata": {
    "tags": []
   },
   "outputs": [],
   "source": [
    "triggerYears = pd.read_csv(rootPath/'city_triggers/triggerYears.csv')"
   ]
  },
  {
   "cell_type": "code",
   "execution_count": 7,
   "id": "fc6fbae8-e0b9-4a74-a0ab-623d44b7089d",
   "metadata": {
    "tags": []
   },
   "outputs": [],
   "source": [
    "triggerYears.index = triggerYears.year\n",
    "triggerYears = triggerYears.drop('year',axis=1)"
   ]
  },
  {
   "cell_type": "code",
   "execution_count": null,
   "id": "60478441-a577-4f81-8d2b-551a33b92e0d",
   "metadata": {},
   "outputs": [],
   "source": []
  }
 ],
 "metadata": {
  "kernelspec": {
   "display_name": "Python 3 (ipykernel)",
   "language": "python",
   "name": "python3"
  },
  "language_info": {
   "codemirror_mode": {
    "name": "ipython",
    "version": 3
   },
   "file_extension": ".py",
   "mimetype": "text/x-python",
   "name": "python",
   "nbconvert_exporter": "python",
   "pygments_lexer": "ipython3",
   "version": "3.8.16"
  }
 },
 "nbformat": 4,
 "nbformat_minor": 5
}
